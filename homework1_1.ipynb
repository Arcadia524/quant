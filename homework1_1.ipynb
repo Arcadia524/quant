{
 "cells": [
  {
   "cell_type": "markdown",
   "metadata": {},
   "source": [
    "# 分钟级策略"
   ]
  },
  {
   "cell_type": "code",
   "execution_count": 1,
   "metadata": {},
   "outputs": [],
   "source": [
    "import pandas as pd\n",
    "import numpy as np\n",
    "import datetime\n",
    "import talib\n",
    "from wmpy.conf.settings import product_info_df, trade_days_list\n",
    "from wmpy.trader.utility import get_previous_date, load_bar, load_bar_period\n",
    "from wmpy.app.cta_backtester.backtesting_bar import cal_all_pnl, cal_daily_pnl # 注意这里是backtesting_bar"
   ]
  },
  {
   "cell_type": "markdown",
   "metadata": {},
   "source": [
    "# 趋势性策略"
   ]
  },
  {
   "cell_type": "code",
   "execution_count": 60,
   "metadata": {},
   "outputs": [],
   "source": [
    "#过滤掉非交易时间\n",
    "def bar_filter(bar_df, contract=None):\n",
    "    def is_trading_time(dt):\n",
    "        condition = (\n",
    "            (dt.time() >= datetime.time(9, 0) and dt.time() < datetime.time(11, 30))    # 上午\n",
    "         or (dt.time() >= datetime.time(13, 0) and dt.time() < datetime.time(15, 0))  # 下午\n",
    "         or (dt.time() >= datetime.time(21, 0) and dt.time() < datetime.time(23, 0)))   # 夜盘\n",
    "        return condition\n",
    "    bool_list = [is_trading_time(x) for x in bar_df.index]\n",
    "    return bar_df.loc[bool_list].copy()"
   ]
  },
  {
   "cell_type": "code",
   "execution_count": 2,
   "metadata": {
    "scrolled": true
   },
   "outputs": [
    {
     "data": {
      "application/vnd.jupyter.widget-view+json": {
       "model_id": "5f17f16436b24b30a2c7b06eb26ae7a6",
       "version_major": 2,
       "version_minor": 0
      },
      "text/plain": [
       "QgridWidget(grid_options={'fullWidthRows': True, 'syncColumnCellResize': True, 'forceFitColumns': True, 'defau…"
      ]
     },
     "metadata": {},
     "output_type": "display_data"
    }
   ],
   "source": [
    "#查看期货品种\n",
    "import qgrid\n",
    "qgrid.show_grid(product_info_df)"
   ]
  },
  {
   "cell_type": "code",
   "execution_count": 62,
   "metadata": {},
   "outputs": [],
   "source": [
    "# MACD策略\n",
    "def MACD_strategy(bar_df, date, contract, parameter_dict=None):\n",
    "    # 参数\n",
    "    FAST_PERIOD = parameter_dict['FAST_PERIOD']\n",
    "    SLOW_PERIOD = parameter_dict['SLOW_PERIOD']\n",
    "    SIGNAL_PERIOD = parameter_dict['SIGNAL_PERIOD']\n",
    "    # 调取前1天数据预热\n",
    "    start_date = get_previous_date(date, 1)\n",
    "    end_date = date\n",
    "    data_df = load_bar_period(contract, start_date, end_date)\n",
    "    data_df = bar_filter(data_df)\n",
    "    # 简单的MACD策略\n",
    "    # DIF、MACD>0 ,开仓做多\n",
    "    # DIF、MACD<0 ,开仓做空\n",
    "    # DIF<0 平多，DIF>0 平空\n",
    "    price = data_df['close_price']\n",
    "    DIF = talib.EMA(price, timeperiod=FAST_PERIOD) - talib.EMA(price, timeperiod=SLOW_PERIOD)\n",
    "    DEA = talib.EMA(DIF, timeperiod=SIGNAL_PERIOD)\n",
    "    MACD = 2*(DIF - DEA)\n",
    "    signal_ser = pd.Series(data = 0,index = bar_df.index) \n",
    "    \n",
    "    for i in range(1,len(signal_ser)):\n",
    "        last_signal = signal_ser[i-1]\n",
    "        if last_signal == 0:\n",
    "            if DIF[i]>0 and MACD[i]>0:\n",
    "                signal_ser[i] = 1\n",
    "            elif DIF[i]<0 and MACD[i]<0:\n",
    "                signal_ser[i] = -1\n",
    "            else:\n",
    "                signal_ser[i] = 0\n",
    "        elif last_signal == 1:\n",
    "            if DIF[i] < 0:\n",
    "                signal_ser[i] = 0\n",
    "            else:\n",
    "                signal_ser[i] = 1\n",
    "        else:\n",
    "            if DIF[i] > 0:\n",
    "                signal_ser[i] = 0\n",
    "            else:\n",
    "                signal_ser[i] = -1\n",
    "    \n",
    "    # 过滤掉夜盘的信号，防止隔夜持仓，也防止加班盯盘\n",
    "    if len(np.unique(bar_df.index.date)) > 1:\n",
    "        current_date = bar_df.index[-1].date()\n",
    "        # 以凌晨3点位分界，划分夜盘和日盘\n",
    "        split_time = datetime.datetime.combine(current_date, datetime.time(3, 0))\n",
    "\n",
    "        night_end_time = bar_df[:split_time].index[-1]\n",
    "        day_start_time = bar_df[split_time:].index[0]\n",
    "        signal_ser.loc[:night_end_time] = 0\n",
    "\n",
    "    position_ser = signal_ser.shift(1)\n",
    "    position_ser.iloc[0] = 0          # 头一分钟无仓位\n",
    "    position_ser.iloc[-1] = 0         # 收盘时也清仓\n",
    "    \n",
    "    return position_ser"
   ]
  },
  {
   "cell_type": "code",
   "execution_count": 63,
   "metadata": {},
   "outputs": [
    {
     "name": "stdout",
     "output_type": "stream",
     "text": [
      "2020-02-03  reach price limit\n",
      "2020-12-21  reach price limit\n",
      "2020-12-21  reach price limit\n",
      "2020-12-21  reach price limit\n",
      "2020-12-21  reach price limit\n",
      "2020-12-21  reach price limit\n",
      "2020-12-21  reach price limit\n",
      "2020-12-21  reach price limit\n",
      "2020-12-21  reach price limit\n",
      "2020-12-21  reach price limit\n",
      "2020-12-21  reach price limit\n",
      "2020-12-21  reach price limit\n",
      "2020-12-21  reach price limit\n",
      "2020-12-21  reach price limit\n",
      "2020-12-21  reach price limit\n",
      "2020-12-21  reach price limit\n",
      "2020-12-21  reach price limit\n",
      "2020-02-03  reach price limit\n",
      "2020-02-03  reach price limit\n",
      "2020-12-21  reach price limit\n",
      "2020-02-03  reach price limit\n",
      "2020-12-21  reach price limit\n",
      "2020-02-03  reach price limit\n",
      "2020-12-21  reach price limit\n",
      "2020-12-21  reach price limit\n",
      "2020-12-21  reach price limit\n",
      "2020-12-21  reach price limit\n",
      "2020-12-21  reach price limit\n",
      "2020-12-21  reach price limit\n",
      "2020-12-21  reach price limit\n",
      "2020-12-21  reach price limit\n",
      "2020-12-21  reach price limit\n",
      "2020-12-21  reach price limit\n",
      "2020-12-21  reach price limit\n",
      "2020-12-21  reach price limit\n",
      "2020-12-21  reach price limit\n",
      "2020-12-21  reach price limit\n",
      "2020-12-21  reach price limit\n",
      "2020-12-21  reach price limit\n",
      "2020-12-21  reach price limit\n"
     ]
    }
   ],
   "source": [
    "# 网格搜索调整参数\n",
    "best_score = -10000\n",
    "for slow_period in [15,30,60,120,270]:\n",
    "    for fast_period in [10,20,30,60,90]:\n",
    "        if slow_period<=fast_period:\n",
    "            break  \n",
    "        for signal_period in [5,10,20,40,50]:\n",
    "        # 对于每种参数可能的组合，进行一次训练\n",
    "            if fast_period<=signal_period:\n",
    "                break  \n",
    "            parameter_dict = dict(FAST_PERIOD = fast_period,SLOW_PERIOD = slow_period,SIGNAL_PERIOD = signal_period)\n",
    "            df = cal_all_pnl(20190104, 20201231, MACD_strategy, parameter_dict, symbol='rb', contract=None, workers=None,mode='take', verbose=False, bar_filter=bar_filter)\n",
    "            df.loc[datetime.date(2020, 2, 3)] = 0, 0, 0, 0, 0\n",
    "            df.loc[datetime.date(2020, 12, 21)] = 0, 0, 0, 0, 0\n",
    "            score = df['net_pnl'].sum()\n",
    "            # 找到表现最好的参数\n",
    "            if score > best_score:\n",
    "                best_score = score\n",
    "                best_parameters = dict(FAST_PERIOD = fast_period,SLOW_PERIOD = slow_period,SIGNAL_PERIOD = signal_period)"
   ]
  },
  {
   "cell_type": "code",
   "execution_count": 64,
   "metadata": {},
   "outputs": [
    {
     "data": {
      "text/plain": [
       "{'FAST_PERIOD': 90, 'SLOW_PERIOD': 270, 'SIGNAL_PERIOD': 50}"
      ]
     },
     "execution_count": 64,
     "metadata": {},
     "output_type": "execute_result"
    }
   ],
   "source": [
    "best_parameters"
   ]
  },
  {
   "cell_type": "code",
   "execution_count": 65,
   "metadata": {},
   "outputs": [
    {
     "data": {
      "text/plain": [
       "-470.0"
      ]
     },
     "execution_count": 65,
     "metadata": {},
     "output_type": "execute_result"
    }
   ],
   "source": [
    "best_score"
   ]
  },
  {
   "cell_type": "code",
   "execution_count": 66,
   "metadata": {},
   "outputs": [
    {
     "name": "stdout",
     "output_type": "stream",
     "text": [
      "2020-12-21  reach price limit\n"
     ]
    }
   ],
   "source": [
    "df = cal_all_pnl(20190104, 20210301, MACD_strategy, best_parameters, symbol='rb', contract=None, workers=None,mode='take', verbose=False, bar_filter=bar_filter)"
   ]
  },
  {
   "cell_type": "code",
   "execution_count": 67,
   "metadata": {},
   "outputs": [],
   "source": [
    "# 碰到了涨跌停，把df处理一下\n",
    "df.loc[datetime.date(2020, 12, 21)] = 0, 0, 0, 0, 0"
   ]
  },
  {
   "cell_type": "code",
   "execution_count": 68,
   "metadata": {},
   "outputs": [
    {
     "data": {
      "text/html": [
       "<div>\n",
       "<style scoped>\n",
       "    .dataframe tbody tr th:only-of-type {\n",
       "        vertical-align: middle;\n",
       "    }\n",
       "\n",
       "    .dataframe tbody tr th {\n",
       "        vertical-align: top;\n",
       "    }\n",
       "\n",
       "    .dataframe thead th {\n",
       "        text-align: right;\n",
       "    }\n",
       "</style>\n",
       "<table border=\"1\" class=\"dataframe\">\n",
       "  <thead>\n",
       "    <tr style=\"text-align: right;\">\n",
       "      <th></th>\n",
       "      <th>total_pnl</th>\n",
       "      <th>net_pnl</th>\n",
       "      <th>commission</th>\n",
       "      <th>num</th>\n",
       "      <th>holding_period</th>\n",
       "    </tr>\n",
       "  </thead>\n",
       "  <tbody>\n",
       "    <tr>\n",
       "      <th>2019-01-04</th>\n",
       "      <td>9.0</td>\n",
       "      <td>9.0</td>\n",
       "      <td>0.0</td>\n",
       "      <td>1.0</td>\n",
       "      <td>26.0</td>\n",
       "    </tr>\n",
       "    <tr>\n",
       "      <th>2019-01-07</th>\n",
       "      <td>2.0</td>\n",
       "      <td>2.0</td>\n",
       "      <td>0.0</td>\n",
       "      <td>1.0</td>\n",
       "      <td>26.0</td>\n",
       "    </tr>\n",
       "    <tr>\n",
       "      <th>2019-01-08</th>\n",
       "      <td>-10.0</td>\n",
       "      <td>-10.0</td>\n",
       "      <td>0.0</td>\n",
       "      <td>1.0</td>\n",
       "      <td>22.0</td>\n",
       "    </tr>\n",
       "    <tr>\n",
       "      <th>2019-01-09</th>\n",
       "      <td>-1.0</td>\n",
       "      <td>-1.0</td>\n",
       "      <td>0.0</td>\n",
       "      <td>1.0</td>\n",
       "      <td>21.0</td>\n",
       "    </tr>\n",
       "    <tr>\n",
       "      <th>2019-01-10</th>\n",
       "      <td>-0.0</td>\n",
       "      <td>-0.0</td>\n",
       "      <td>0.0</td>\n",
       "      <td>0.0</td>\n",
       "      <td>0.0</td>\n",
       "    </tr>\n",
       "    <tr>\n",
       "      <th>...</th>\n",
       "      <td>...</td>\n",
       "      <td>...</td>\n",
       "      <td>...</td>\n",
       "      <td>...</td>\n",
       "      <td>...</td>\n",
       "    </tr>\n",
       "    <tr>\n",
       "      <th>2021-02-23</th>\n",
       "      <td>-0.0</td>\n",
       "      <td>-0.0</td>\n",
       "      <td>0.0</td>\n",
       "      <td>0.0</td>\n",
       "      <td>0.0</td>\n",
       "    </tr>\n",
       "    <tr>\n",
       "      <th>2021-02-24</th>\n",
       "      <td>-30.0</td>\n",
       "      <td>-30.0</td>\n",
       "      <td>0.0</td>\n",
       "      <td>1.0</td>\n",
       "      <td>26.0</td>\n",
       "    </tr>\n",
       "    <tr>\n",
       "      <th>2021-02-25</th>\n",
       "      <td>6.0</td>\n",
       "      <td>6.0</td>\n",
       "      <td>0.0</td>\n",
       "      <td>1.0</td>\n",
       "      <td>4.0</td>\n",
       "    </tr>\n",
       "    <tr>\n",
       "      <th>2021-02-26</th>\n",
       "      <td>-0.0</td>\n",
       "      <td>-0.0</td>\n",
       "      <td>0.0</td>\n",
       "      <td>0.0</td>\n",
       "      <td>0.0</td>\n",
       "    </tr>\n",
       "    <tr>\n",
       "      <th>2021-03-01</th>\n",
       "      <td>-4.0</td>\n",
       "      <td>-4.0</td>\n",
       "      <td>0.0</td>\n",
       "      <td>1.0</td>\n",
       "      <td>26.0</td>\n",
       "    </tr>\n",
       "  </tbody>\n",
       "</table>\n",
       "<p>521 rows × 5 columns</p>\n",
       "</div>"
      ],
      "text/plain": [
       "            total_pnl  net_pnl  commission  num  holding_period\n",
       "2019-01-04        9.0      9.0         0.0  1.0            26.0\n",
       "2019-01-07        2.0      2.0         0.0  1.0            26.0\n",
       "2019-01-08      -10.0    -10.0         0.0  1.0            22.0\n",
       "2019-01-09       -1.0     -1.0         0.0  1.0            21.0\n",
       "2019-01-10       -0.0     -0.0         0.0  0.0             0.0\n",
       "...               ...      ...         ...  ...             ...\n",
       "2021-02-23       -0.0     -0.0         0.0  0.0             0.0\n",
       "2021-02-24      -30.0    -30.0         0.0  1.0            26.0\n",
       "2021-02-25        6.0      6.0         0.0  1.0             4.0\n",
       "2021-02-26       -0.0     -0.0         0.0  0.0             0.0\n",
       "2021-03-01       -4.0     -4.0         0.0  1.0            26.0\n",
       "\n",
       "[521 rows x 5 columns]"
      ]
     },
     "execution_count": 68,
     "metadata": {},
     "output_type": "execute_result"
    }
   ],
   "source": [
    "df"
   ]
  },
  {
   "cell_type": "code",
   "execution_count": 69,
   "metadata": {},
   "outputs": [
    {
     "data": {
      "text/plain": [
       "<matplotlib.collections.PolyCollection at 0x7fc2819f9ed0>"
      ]
     },
     "execution_count": 69,
     "metadata": {},
     "output_type": "execute_result"
    },
    {
     "data": {
      "image/png": "[encoded data removed]",
      "text/plain": [
       "<Figure size 432x288 with 1 Axes>"
      ]
     },
     "metadata": {
      "needs_background": "light"
     },
     "output_type": "display_data"
    }
   ],
   "source": [
    "# 2021-1之后为样本外效果\n",
    "import matplotlib.pyplot as plt\n",
    "value_ser = df['net_pnl'].cumsum()\n",
    "value_ser.plot()\n",
    "plt.fill_between(value_ser[datetime.date(2021, 1, 1):].index,\n",
    "                         value_ser.min(),\n",
    "                         value_ser.max(),\n",
    "                         facecolor='green',\n",
    "                         alpha=0.3)"
   ]
  },
  {
   "cell_type": "code",
   "execution_count": null,
   "metadata": {},
   "outputs": [],
   "source": []
  },
  {
   "cell_type": "code",
   "execution_count": 70,
   "metadata": {},
   "outputs": [
    {
     "name": "stdout",
     "output_type": "stream",
     "text": [
      "------------------------------\n",
      "交易天数：\t521\n",
      "区间收益：\t-584.00\n",
      "日度胜率：\t40.75%\n",
      "日盈亏比：\t0.88:1\n",
      "------------------------------\n",
      "最大回撤：\t597.00\n",
      "回撤起始：\t2019-01-07\n",
      "回撤结束：\t2021-02-24\n",
      "------------------------------\n",
      "交易次数：\t297.0\n",
      "每日平均：\t0.57\n",
      "每笔收益：\t-1.97\n",
      "------------------------------\n",
      "信息比率：\t-0.12\n",
      "------------------------------\n"
     ]
    },
    {
     "data": {
      "text/plain": [
       "(-584.0, 597.0, -1.9663299663299663, 297.0, 521, -0.12050695952578441)"
      ]
     },
     "execution_count": 70,
     "metadata": {},
     "output_type": "execute_result"
    },
    {
     "data": {
      "image/png": "[encoded data removed]",
      "text/plain": [
       "<Figure size 432x288 with 1 Axes>"
      ]
     },
     "metadata": {
      "needs_background": "light"
     },
     "output_type": "display_data"
    }
   ],
   "source": [
    "from wmpy.trader.utility import performance_summary\n",
    "performance_summary(df, _plot=True, _print=True)"
   ]
  },
  {
   "cell_type": "code",
   "execution_count": 103,
   "metadata": {},
   "outputs": [],
   "source": [
    "# 三均线策略\n",
    "def tri_ma_strategy(bar_df, date, contract, parameter_dict=None):\n",
    "    # 参数\n",
    "    SHORT_PERIOD = parameter_dict['SHORT_PERIOD']\n",
    "    MID_PERIOD = parameter_dict['MID_PERIOD']\n",
    "    LONG_PERIOD = parameter_dict['LONG_PERIOD']\n",
    "    # 调取前1天数据预热\n",
    "    start_date = get_previous_date(date, 1)\n",
    "    end_date = date\n",
    "    data_df = load_bar_period(contract, start_date, end_date)\n",
    "    data_df = bar_filter(data_df)\n",
    "    # 简单的三均线策略\n",
    "    # SHORT_MA,MID_MA>LONG_MA、SHORT_MA>MID_MA ,开仓做多\n",
    "    # SHORT_MA,MID_MA<LONG_MA、SHORT_MA<MID_MA ,开仓做空\n",
    "    # SHORT_MA<LONG_MA 平多，SHORT_MA>LONG_MA平空\n",
    "    SHORT_MA = talib.SMA(data_df['close_price'],timeperiod = SHORT_PERIOD)\n",
    "    MID_MA = talib.SMA(data_df['close_price'],timeperiod = MID_PERIOD)\n",
    "    LONG_MA = talib.SMA(data_df['close_price'],timeperiod = LONG_PERIOD)\n",
    "\n",
    "    signal_ser = pd.Series(data = 0,index = bar_df.index) \n",
    "    \n",
    "    for i in range(1,len(signal_ser)):\n",
    "        last_signal = signal_ser[i-1]\n",
    "        if last_signal == 0:\n",
    "            if SHORT_MA[i] > MID_MA[i] > LONG_MA[i]:\n",
    "                signal_ser[i] = 1\n",
    "            elif SHORT_MA[i] < MID_MA[i] < LONG_MA[i]:\n",
    "                signal_ser[i] = -1\n",
    "            else:\n",
    "                signal_ser[i] = 0\n",
    "        elif last_signal == 1:\n",
    "            if SHORT_MA[i] < LONG_MA[i]:\n",
    "                signal_ser[i] = 0\n",
    "            else:\n",
    "                signal_ser[i] = 1\n",
    "        else:\n",
    "            if SHORT_MA[i] > LONG_MA[i]:\n",
    "                signal_ser[i] = 0\n",
    "            else:\n",
    "                signal_ser[i] = -1\n",
    "    \n",
    "    # 过滤掉夜盘的信号，防止隔夜持仓，也防止加班盯盘\n",
    "    if len(np.unique(bar_df.index.date)) > 1:\n",
    "        current_date = bar_df.index[-1].date()\n",
    "        # 以凌晨3点位分界，划分夜盘和日盘\n",
    "        split_time = datetime.datetime.combine(current_date, datetime.time(3, 0))\n",
    "\n",
    "        night_end_time = bar_df[:split_time].index[-1]\n",
    "        day_start_time = bar_df[split_time:].index[0]\n",
    "        signal_ser.loc[:night_end_time] = 0\n",
    "\n",
    "    position_ser = signal_ser.shift(1)\n",
    "    position_ser.iloc[0] = 0          # 头一分钟无仓位\n",
    "    position_ser.iloc[-1] = 0         # 收盘时也清仓\n",
    "    \n",
    "    return position_ser"
   ]
  },
  {
   "cell_type": "code",
   "execution_count": 104,
   "metadata": {},
   "outputs": [
    {
     "name": "stdout",
     "output_type": "stream",
     "text": [
      "2019-05-29  reach price limit\n",
      "2020-03-23  reach price limit\n",
      "2019-05-29  reach price limit\n",
      "2020-03-23  reach price limit\n",
      "2019-05-29  reach price limit\n",
      "2020-03-23  reach price limit\n",
      "2019-05-29  reach price limit\n",
      "2020-03-23  reach price limit\n",
      "2019-05-29  reach price limit\n",
      "2020-03-23  reach price limit\n",
      "2019-05-29  reach price limit\n",
      "2020-03-23  reach price limit\n",
      "2019-05-29  reach price limit\n",
      "2020-03-23  reach price limit\n",
      "2019-05-29  reach price limit\n",
      "2020-03-23  reach price limit\n",
      "2019-05-29  reach price limit\n",
      "2020-03-23  reach price limit\n",
      "2019-05-29  reach price limit\n",
      "2020-03-23  reach price limit\n",
      "2019-05-29  reach price limit\n",
      "2020-03-23  reach price limit\n",
      "2019-05-29  reach price limit\n",
      "2020-03-23  reach price limit\n",
      "2019-05-29  reach price limit\n",
      "2020-03-23  reach price limit\n",
      "2019-05-29  reach price limit\n",
      "2020-03-23  reach price limit\n",
      "2019-05-29  reach price limit\n",
      "2020-03-23  reach price limit\n",
      "2019-05-29  reach price limit\n",
      "2020-03-23  reach price limit\n",
      "2019-05-29  reach price limit\n",
      "2020-03-23  reach price limit\n",
      "2019-05-29  reach price limit\n",
      "2020-03-23  reach price limit\n",
      "2019-05-29  reach price limit\n",
      "2020-03-23  reach price limit\n",
      "2019-05-29  reach price limit\n",
      "2020-03-23  reach price limit\n",
      "2019-05-29  reach price limit\n",
      "2019-05-29  reach price limit\n",
      "2019-05-29  reach price limit\n",
      "2019-05-29  reach price limit\n",
      "2019-05-29  reach price limit\n",
      "2019-05-29  reach price limit\n",
      "2019-05-29  reach price limit\n",
      "2019-05-29  reach price limit\n",
      "2019-05-29  reach price limit\n",
      "2019-05-29  reach price limit\n",
      "2019-05-29  reach price limit\n",
      "2019-05-29  reach price limit\n",
      "2019-05-29  reach price limit\n",
      "2019-05-29  reach price limit\n",
      "2019-05-29  reach price limit\n"
     ]
    }
   ],
   "source": [
    "# 网格搜索调整参数\n",
    "best_score = -10000\n",
    "for long_period in [15,30,60,120,270]:\n",
    "    for mid_period in [10,20,30,60,120]:\n",
    "        if long_period<=mid_period:\n",
    "            break  \n",
    "        for short_period in [5,10,20,40,60]:\n",
    "        # 对于每种参数可能的组合，进行一次训练\n",
    "            if mid_period<=short_period:\n",
    "                break  \n",
    "            parameter_dict = dict(SHORT_PERIOD = short_period, MID_PERIOD = mid_period, LONG_PERIOD =long_period)\n",
    "            df = cal_all_pnl(20190104, 20201231, tri_ma_strategy, parameter_dict, symbol='m', contract=None, workers=None,mode='take', verbose=False, bar_filter=bar_filter)\n",
    "            df.loc[datetime.date(2019, 5, 29)] = 0, 0, 0, 0, 0\n",
    "            df.loc[datetime.date(2020, 3, 23)] = 0, 0, 0, 0, 0\n",
    "            score = df['net_pnl'].sum()\n",
    "            # 找到表现最好的参数\n",
    "            if score > best_score:\n",
    "                best_score = score\n",
    "                best_parameters = dict(SHORT_PERIOD = short_period, MID_PERIOD = mid_period, LONG_PERIOD =long_period)"
   ]
  },
  {
   "cell_type": "code",
   "execution_count": 105,
   "metadata": {},
   "outputs": [
    {
     "data": {
      "text/plain": [
       "{'SHORT_PERIOD': 20, 'MID_PERIOD': 120, 'LONG_PERIOD': 270}"
      ]
     },
     "execution_count": 105,
     "metadata": {},
     "output_type": "execute_result"
    }
   ],
   "source": [
    "best_parameters"
   ]
  },
  {
   "cell_type": "code",
   "execution_count": 106,
   "metadata": {},
   "outputs": [
    {
     "data": {
      "text/plain": [
       "-451.0"
      ]
     },
     "execution_count": 106,
     "metadata": {},
     "output_type": "execute_result"
    }
   ],
   "source": [
    "best_score"
   ]
  },
  {
   "cell_type": "code",
   "execution_count": 107,
   "metadata": {},
   "outputs": [
    {
     "name": "stdout",
     "output_type": "stream",
     "text": [
      "2019-05-29  reach price limit\n"
     ]
    }
   ],
   "source": [
    "df = cal_all_pnl(20190104, 20210301, tri_ma_strategy, best_parameters, symbol='m', contract=None, workers=None,mode='take', verbose=False, bar_filter=bar_filter)"
   ]
  },
  {
   "cell_type": "code",
   "execution_count": 109,
   "metadata": {},
   "outputs": [],
   "source": [
    "df.loc[datetime.date(2019,5 , 29)] = 0, 0, 0, 0, 0\n",
    "df.loc[datetime.date(2020, 3, 23)] = 0, 0, 0, 0, 0"
   ]
  },
  {
   "cell_type": "code",
   "execution_count": 110,
   "metadata": {},
   "outputs": [
    {
     "data": {
      "text/html": [
       "<div>\n",
       "<style scoped>\n",
       "    .dataframe tbody tr th:only-of-type {\n",
       "        vertical-align: middle;\n",
       "    }\n",
       "\n",
       "    .dataframe tbody tr th {\n",
       "        vertical-align: top;\n",
       "    }\n",
       "\n",
       "    .dataframe thead th {\n",
       "        text-align: right;\n",
       "    }\n",
       "</style>\n",
       "<table border=\"1\" class=\"dataframe\">\n",
       "  <thead>\n",
       "    <tr style=\"text-align: right;\">\n",
       "      <th></th>\n",
       "      <th>total_pnl</th>\n",
       "      <th>net_pnl</th>\n",
       "      <th>commission</th>\n",
       "      <th>num</th>\n",
       "      <th>holding_period</th>\n",
       "    </tr>\n",
       "  </thead>\n",
       "  <tbody>\n",
       "    <tr>\n",
       "      <th>2019-01-04</th>\n",
       "      <td>6.0</td>\n",
       "      <td>6.0</td>\n",
       "      <td>0.0</td>\n",
       "      <td>1.0</td>\n",
       "      <td>75.0</td>\n",
       "    </tr>\n",
       "    <tr>\n",
       "      <th>2019-01-07</th>\n",
       "      <td>7.0</td>\n",
       "      <td>7.0</td>\n",
       "      <td>0.0</td>\n",
       "      <td>1.0</td>\n",
       "      <td>75.0</td>\n",
       "    </tr>\n",
       "    <tr>\n",
       "      <th>2019-01-08</th>\n",
       "      <td>7.0</td>\n",
       "      <td>7.0</td>\n",
       "      <td>0.0</td>\n",
       "      <td>1.0</td>\n",
       "      <td>67.0</td>\n",
       "    </tr>\n",
       "    <tr>\n",
       "      <th>2019-01-09</th>\n",
       "      <td>4.0</td>\n",
       "      <td>4.0</td>\n",
       "      <td>0.0</td>\n",
       "      <td>1.0</td>\n",
       "      <td>71.0</td>\n",
       "    </tr>\n",
       "    <tr>\n",
       "      <th>2019-01-10</th>\n",
       "      <td>2.0</td>\n",
       "      <td>2.0</td>\n",
       "      <td>0.0</td>\n",
       "      <td>1.0</td>\n",
       "      <td>63.0</td>\n",
       "    </tr>\n",
       "    <tr>\n",
       "      <th>...</th>\n",
       "      <td>...</td>\n",
       "      <td>...</td>\n",
       "      <td>...</td>\n",
       "      <td>...</td>\n",
       "      <td>...</td>\n",
       "    </tr>\n",
       "    <tr>\n",
       "      <th>2021-02-23</th>\n",
       "      <td>7.0</td>\n",
       "      <td>7.0</td>\n",
       "      <td>0.0</td>\n",
       "      <td>1.0</td>\n",
       "      <td>5.0</td>\n",
       "    </tr>\n",
       "    <tr>\n",
       "      <th>2021-02-24</th>\n",
       "      <td>1.0</td>\n",
       "      <td>1.0</td>\n",
       "      <td>0.0</td>\n",
       "      <td>1.0</td>\n",
       "      <td>75.0</td>\n",
       "    </tr>\n",
       "    <tr>\n",
       "      <th>2021-02-25</th>\n",
       "      <td>-20.0</td>\n",
       "      <td>-20.0</td>\n",
       "      <td>0.0</td>\n",
       "      <td>2.0</td>\n",
       "      <td>60.0</td>\n",
       "    </tr>\n",
       "    <tr>\n",
       "      <th>2021-02-26</th>\n",
       "      <td>12.0</td>\n",
       "      <td>12.0</td>\n",
       "      <td>0.0</td>\n",
       "      <td>1.0</td>\n",
       "      <td>75.0</td>\n",
       "    </tr>\n",
       "    <tr>\n",
       "      <th>2021-03-01</th>\n",
       "      <td>-1.0</td>\n",
       "      <td>-1.0</td>\n",
       "      <td>0.0</td>\n",
       "      <td>1.0</td>\n",
       "      <td>75.0</td>\n",
       "    </tr>\n",
       "  </tbody>\n",
       "</table>\n",
       "<p>521 rows × 5 columns</p>\n",
       "</div>"
      ],
      "text/plain": [
       "            total_pnl  net_pnl  commission  num  holding_period\n",
       "2019-01-04        6.0      6.0         0.0  1.0            75.0\n",
       "2019-01-07        7.0      7.0         0.0  1.0            75.0\n",
       "2019-01-08        7.0      7.0         0.0  1.0            67.0\n",
       "2019-01-09        4.0      4.0         0.0  1.0            71.0\n",
       "2019-01-10        2.0      2.0         0.0  1.0            63.0\n",
       "...               ...      ...         ...  ...             ...\n",
       "2021-02-23        7.0      7.0         0.0  1.0             5.0\n",
       "2021-02-24        1.0      1.0         0.0  1.0            75.0\n",
       "2021-02-25      -20.0    -20.0         0.0  2.0            60.0\n",
       "2021-02-26       12.0     12.0         0.0  1.0            75.0\n",
       "2021-03-01       -1.0     -1.0         0.0  1.0            75.0\n",
       "\n",
       "[521 rows x 5 columns]"
      ]
     },
     "execution_count": 110,
     "metadata": {},
     "output_type": "execute_result"
    }
   ],
   "source": [
    "df"
   ]
  },
  {
   "cell_type": "code",
   "execution_count": 111,
   "metadata": {},
   "outputs": [
    {
     "data": {
      "text/plain": [
       "<matplotlib.collections.PolyCollection at 0x7fc2814db350>"
      ]
     },
     "execution_count": 111,
     "metadata": {},
     "output_type": "execute_result"
    },
    {
     "data": {
      "image/png": "[encoded data removed]",
      "text/plain": [
       "<Figure size 432x288 with 1 Axes>"
      ]
     },
     "metadata": {
      "needs_background": "light"
     },
     "output_type": "display_data"
    }
   ],
   "source": [
    "# 2021-1之后为样本外效果\n",
    "import matplotlib.pyplot as plt\n",
    "value_ser = df['net_pnl'].cumsum()\n",
    "value_ser.plot()\n",
    "plt.fill_between(value_ser[datetime.date(2021, 1, 1):].index,\n",
    "                         value_ser.min(),\n",
    "                         value_ser.max(),\n",
    "                         facecolor='green',\n",
    "                         alpha=0.3)"
   ]
  },
  {
   "cell_type": "code",
   "execution_count": 112,
   "metadata": {
    "scrolled": true
   },
   "outputs": [
    {
     "name": "stdout",
     "output_type": "stream",
     "text": [
      "------------------------------\n",
      "交易天数：\t521\n",
      "区间收益：\t-609.00\n",
      "日度胜率：\t36.76%\n",
      "日盈亏比：\t1.05:1\n",
      "------------------------------\n",
      "最大回撤：\t654.00\n",
      "回撤起始：\t2019-01-22\n",
      "回撤结束：\t2021-02-25\n",
      "------------------------------\n",
      "交易次数：\t452.0\n",
      "每日平均：\t0.87\n",
      "每笔收益：\t-1.35\n",
      "------------------------------\n",
      "信息比率：\t-0.15\n",
      "------------------------------\n"
     ]
    },
    {
     "data": {
      "text/plain": [
       "(-609.0, 654.0, -1.3473451327433628, 452.0, 521, -0.1525141742212671)"
      ]
     },
     "execution_count": 112,
     "metadata": {},
     "output_type": "execute_result"
    },
    {
     "data": {
      "image/png": "[encoded data removed]",
      "text/plain": [
       "<Figure size 432x288 with 1 Axes>"
      ]
     },
     "metadata": {
      "needs_background": "light"
     },
     "output_type": "display_data"
    }
   ],
   "source": [
    "from wmpy.trader.utility import performance_summary\n",
    "performance_summary(df, _plot=True, _print=True)"
   ]
  },
  {
   "cell_type": "markdown",
   "metadata": {},
   "source": [
    "# 反转性策略"
   ]
  },
  {
   "cell_type": "code",
   "execution_count": 80,
   "metadata": {},
   "outputs": [],
   "source": [
    "# RSI策略\n",
    "def RSI_strategy(bar_df, date, contract, parameter_dict=None):\n",
    "    # 参数\n",
    "    RSI_WINDOW = parameter_dict['RSI_WINDOW']\n",
    "    BUY_THRESHOLD = parameter_dict['OPEN_THRESHOLD']\n",
    "    SELL_THRESHOLD = parameter_dict['CLOSE_THRESHOLD']\n",
    "    # 调取前2天数据预热\n",
    "    start_date = get_previous_date(date, 2)\n",
    "    end_date = date\n",
    "    data_df = load_bar_period(contract, start_date, end_date)\n",
    "    data_df = bar_filter(data_df)\n",
    "    # 简单的RSI策略\n",
    "    RSI = talib.RSI(data_df['close_price'],RSI_WINDOW)\n",
    "    \n",
    "    score_ser = pd.Series(RSI, index=bar_df.index)\n",
    "    \n",
    "    BUY_OPEN_THRETHOD =  BUY_THRESHOLD\n",
    "    SELL_OPEN_THRETHOD = SELL_THRESHOLD\n",
    "\n",
    "    SELL_CLOSE_THRETHOD = SELL_THRESHOLD\n",
    "    BUY_CLOSE_THRETHOD = BUY_THRESHOLD\n",
    "    \n",
    "    ## 根据信号确定仓位\n",
    "    signal_ser = pd.Series(data=0, index=score_ser.index)\n",
    "\n",
    "    ## 先确定开仓时点\n",
    "    buy_open_bool = score_ser <= BUY_OPEN_THRETHOD\n",
    "    signal_ser[buy_open_bool] = 1\n",
    "\n",
    "    sell_open_bool = score_ser >= SELL_OPEN_THRETHOD\n",
    "    signal_ser[sell_open_bool] = -1\n",
    "\n",
    "    # 过滤掉夜盘的信号，防止隔夜持仓，也防止加班盯盘\n",
    "    if len(np.unique(bar_df.index.date)) > 1:\n",
    "        current_date = bar_df.index[-1].date()\n",
    "        # 以凌晨3点位分界，划分夜盘和日盘\n",
    "        split_time = datetime.datetime.combine(current_date, datetime.time(3, 0))\n",
    "\n",
    "        night_end_time = bar_df[:split_time].index[-1]\n",
    "        day_start_time = bar_df[split_time:].index[0]\n",
    "        signal_ser.loc[:night_end_time] = 0\n",
    "\n",
    "\n",
    "    ## 再确定平仓时点\n",
    "    buy_close_bool = score_ser >= SELL_CLOSE_THRETHOD\n",
    "    position_positive = pd.Series(data=np.nan, index=score_ser.index)\n",
    "    position_positive.iloc[0] = 0\n",
    "    position_positive[signal_ser == 1] = 1\n",
    "    position_positive[buy_close_bool] = 0\n",
    "    position_positive = position_positive.ffill()\n",
    "    position_positive = position_positive.shift(1)\n",
    "\n",
    "    sell_close_bool = score_ser <= BUY_CLOSE_THRETHOD\n",
    "    position_negative = pd.Series(data=np.nan, index=score_ser.index)\n",
    "    position_negative.iloc[0] = 0\n",
    "    position_negative[signal_ser == -1] = -1\n",
    "    position_negative[sell_close_bool] = 0\n",
    "    position_negative = position_negative.ffill()\n",
    "    position_negative = position_negative.shift(1)\n",
    "\n",
    "    position_ser = position_positive + position_negative\n",
    "\n",
    "    ## 返回这段时间的持仓序列\n",
    "    position_ser = position_ser.fillna(0)\n",
    "    position_ser = pd.Series(position_ser, index=bar_df.index)\n",
    "\n",
    "    position_ser.iloc[0] = 0\n",
    "    position_ser.iloc[-1] = 0\n",
    "    position_ser.iloc[-2] = 0\n",
    "    position_ser.iloc[-3] = 0\n",
    "    \n",
    "    return position_ser"
   ]
  },
  {
   "cell_type": "code",
   "execution_count": 81,
   "metadata": {},
   "outputs": [
    {
     "name": "stdout",
     "output_type": "stream",
     "text": [
      "2020-02-03  reach price limit\n",
      "2020-12-21  reach price limit\n",
      "2020-02-03  reach price limit\n",
      "2020-12-21  reach price limit\n",
      "2020-02-03  reach price limit\n",
      "2020-12-21  reach price limit\n",
      "2020-02-03  reach price limit\n",
      "2020-12-21  reach price limit\n",
      "2020-02-03  reach price limit\n",
      "2020-12-21  reach price limit\n",
      "2020-02-03  reach price limit\n",
      "2020-02-03  reach price limit\n",
      "2020-02-03  reach price limit\n",
      "2020-02-03  reach price limit\n",
      "2020-02-03  reach price limit\n",
      "2020-12-21  reach price limit\n",
      "2020-02-03  reach price limit\n",
      "2020-02-03  reach price limit\n",
      "2020-02-03  reach price limit\n",
      "2020-02-03  reach price limit\n",
      "2020-02-03  reach price limit\n",
      "2020-12-21  reach price limit\n",
      "2020-02-03  reach price limit\n",
      "2020-02-03  reach price limit\n",
      "2020-02-03  reach price limit\n",
      "2020-02-03  reach price limit\n",
      "2020-02-03  reach price limit\n",
      "2020-12-21  reach price limit\n",
      "2020-02-03  reach price limit\n",
      "2020-02-03  reach price limit\n",
      "2020-02-03  reach price limit\n",
      "2020-02-03  reach price limit\n",
      "2020-02-03  reach price limit\n",
      "2020-12-21  reach price limit\n",
      "2020-02-03  reach price limit\n",
      "2020-12-21  reach price limit\n",
      "2020-02-03  reach price limit\n",
      "2020-12-21  reach price limit\n",
      "2020-02-03  reach price limit\n",
      "2020-12-21  reach price limit\n",
      "2020-02-03  reach price limit\n",
      "2020-12-21  reach price limit\n",
      "2020-02-03  reach price limit\n",
      "2020-12-21  reach price limit\n",
      "2020-02-03  reach price limit\n",
      "2020-12-21  reach price limit\n",
      "2020-02-03  reach price limit\n",
      "2020-12-21  reach price limit\n",
      "2020-02-03  reach price limit\n",
      "2020-12-21  reach price limit\n",
      "2020-02-03  reach price limit\n",
      "2020-12-21  reach price limit\n",
      "2020-02-03  reach price limit\n",
      "2020-12-21  reach price limit\n",
      "2020-02-03  reach price limit\n",
      "2020-12-21  reach price limit\n",
      "2020-02-03  reach price limit\n",
      "2020-12-21  reach price limit\n",
      "2020-02-03  reach price limit\n",
      "2020-12-21  reach price limit\n",
      "2020-02-03  reach price limit\n",
      "2020-12-21  reach price limit\n",
      "2020-02-03  reach price limit\n",
      "2020-12-21  reach price limit\n",
      "2020-02-03  reach price limit\n",
      "2020-12-21  reach price limit\n",
      "2020-02-03  reach price limit\n",
      "2020-12-21  reach price limit\n",
      "2020-02-03  reach price limit\n",
      "2020-12-21  reach price limit\n",
      "2020-02-03  reach price limit\n",
      "2020-12-21  reach price limit\n",
      "2020-02-03  reach price limit\n",
      "2020-12-21  reach price limit\n",
      "2020-02-03  reach price limit\n",
      "2020-02-03  reach price limit\n",
      "2020-02-03  reach price limit\n",
      "2020-02-03  reach price limit\n",
      "2020-02-03  reach price limit\n",
      "2020-02-03  reach price limit\n",
      "2020-12-21  reach price limit\n",
      "2020-02-03  reach price limit\n",
      "2020-12-21  reach price limit\n",
      "2020-02-03  reach price limit\n",
      "2020-12-21  reach price limit\n",
      "2020-02-03  reach price limit\n",
      "2020-12-21  reach price limit\n",
      "2020-02-03  reach price limit\n",
      "2020-12-21  reach price limit\n",
      "2020-02-03  reach price limit\n",
      "2020-12-21  reach price limit\n",
      "2020-02-03  reach price limit\n",
      "2020-12-21  reach price limit\n",
      "2020-02-03  reach price limit\n",
      "2020-12-21  reach price limit\n",
      "2020-02-03  reach price limit\n",
      "2020-12-21  reach price limit\n",
      "2020-02-03  reach price limit\n",
      "2020-12-21  reach price limit\n",
      "2020-02-03  reach price limit\n",
      "2020-12-21  reach price limit\n",
      "2020-02-03  reach price limit\n",
      "2020-12-21  reach price limit\n",
      "2020-02-03  reach price limit\n",
      "2020-12-21  reach price limit\n",
      "2020-02-03  reach price limit\n",
      "2020-12-21  reach price limit\n",
      "2020-02-03  reach price limit\n",
      "2020-12-21  reach price limit\n",
      "2020-02-03  reach price limit\n",
      "2020-12-21  reach price limit\n",
      "2020-02-03  reach price limit\n",
      "2020-12-21  reach price limit\n",
      "2020-02-03  reach price limit\n",
      "2020-12-21  reach price limit\n",
      "2020-02-03  reach price limit\n",
      "2020-12-21  reach price limit\n",
      "2020-02-03  reach price limit\n",
      "2020-12-21  reach price limit\n",
      "2020-02-03  reach price limit\n",
      "2020-12-21  reach price limit\n",
      "2020-02-03  reach price limit\n",
      "2020-12-21  reach price limit\n",
      "2020-02-03  reach price limit\n",
      "2020-12-21  reach price limit\n",
      "2020-02-03  reach price limit\n",
      "2020-12-21  reach price limit\n",
      "2020-02-03  reach price limit\n",
      "2020-12-21  reach price limit\n",
      "2020-02-03  reach price limit\n",
      "2020-02-03  reach price limit\n",
      "2020-02-03  reach price limit\n",
      "2020-12-21  reach price limit\n",
      "2020-02-03  reach price limit\n",
      "2020-12-21  reach price limit\n",
      "2020-02-03  reach price limit\n",
      "2020-12-21  reach price limit\n",
      "2020-02-03  reach price limit\n",
      "2020-02-03  reach price limit\n",
      "2020-02-03  reach price limit\n",
      "2020-12-21  reach price limit\n",
      "2020-02-03  reach price limit\n",
      "2020-12-21  reach price limit\n",
      "2020-02-03  reach price limit\n",
      "2020-12-21  reach price limit\n",
      "2020-02-03  reach price limit\n",
      "2020-02-03  reach price limit\n",
      "2020-02-03  reach price limit\n",
      "2020-12-21  reach price limit\n",
      "2020-02-03  reach price limit\n",
      "2020-12-21  reach price limit\n",
      "2020-02-03  reach price limit\n",
      "2020-12-21  reach price limit\n",
      "2020-02-03  reach price limit\n",
      "2020-02-03  reach price limit\n",
      "2020-02-03  reach price limit\n",
      "2020-12-21  reach price limit\n",
      "2020-02-03  reach price limit\n",
      "2020-12-21  reach price limit\n",
      "2020-02-03  reach price limit\n",
      "2020-12-21  reach price limit\n",
      "2020-02-03  reach price limit\n",
      "2020-02-03  reach price limit\n",
      "2020-02-03  reach price limit\n",
      "2020-12-21  reach price limit\n",
      "2020-02-03  reach price limit\n",
      "2020-12-21  reach price limit\n",
      "2020-02-03  reach price limit\n",
      "2020-12-21  reach price limit\n"
     ]
    }
   ],
   "source": [
    "# 网格搜索调整参数\n",
    "best_score = -10000\n",
    "for rsi_window in [5,10,30,60]:\n",
    "    for open_treshold in [20,25,30,35,40]:\n",
    "        for close_treshold in [80,75,70,65,60]:\n",
    "        # 对于每种参数可能的组合，进行一次训练\n",
    "            parameter_dict = dict(RSI_WINDOW=rsi_window, OPEN_THRESHOLD=open_treshold, CLOSE_THRESHOLD=close_treshold )\n",
    "            df = cal_all_pnl(20190104, 20201231, RSI_strategy, parameter_dict, symbol='rb', contract=None, workers=None,mode='take', verbose=False, bar_filter=bar_filter)\n",
    "            df.loc[datetime.date(2020, 2, 3)] = 0, 0, 0, 0, 0\n",
    "            df.loc[datetime.date(2020, 12, 21)] = 0, 0, 0, 0, 0\n",
    "            score = df['net_pnl'].sum()\n",
    "            # 找到表现最好的参数\n",
    "            if score > best_score:\n",
    "                best_score = score\n",
    "                best_parameters = dict(RSI_WINDOW=rsi_window, OPEN_THRESHOLD=open_treshold, CLOSE_THRESHOLD=close_treshold )"
   ]
  },
  {
   "cell_type": "code",
   "execution_count": 83,
   "metadata": {},
   "outputs": [
    {
     "data": {
      "text/plain": [
       "{'RSI_WINDOW': 30, 'OPEN_THRESHOLD': 20, 'CLOSE_THRESHOLD': 75}"
      ]
     },
     "execution_count": 83,
     "metadata": {},
     "output_type": "execute_result"
    }
   ],
   "source": [
    "best_parameters"
   ]
  },
  {
   "cell_type": "code",
   "execution_count": 84,
   "metadata": {},
   "outputs": [
    {
     "name": "stdout",
     "output_type": "stream",
     "text": [
      "2020-02-03  reach price limit\n",
      "2020-12-21  reach price limit\n"
     ]
    }
   ],
   "source": [
    "\n",
    "df = cal_all_pnl(20190104, 20210301, RSI_strategy, best_parameters, symbol='rb', contract=None, workers=None,mode='take', verbose=False, bar_filter=bar_filter)"
   ]
  },
  {
   "cell_type": "code",
   "execution_count": 85,
   "metadata": {},
   "outputs": [],
   "source": [
    "df.loc[datetime.date(2020, 2, 3)] = 0, 0, 0, 0, 0\n",
    "df.loc[datetime.date(2020, 12, 21)] = 0, 0, 0, 0, 0"
   ]
  },
  {
   "cell_type": "code",
   "execution_count": 86,
   "metadata": {},
   "outputs": [
    {
     "data": {
      "text/html": [
       "<div>\n",
       "<style scoped>\n",
       "    .dataframe tbody tr th:only-of-type {\n",
       "        vertical-align: middle;\n",
       "    }\n",
       "\n",
       "    .dataframe tbody tr th {\n",
       "        vertical-align: top;\n",
       "    }\n",
       "\n",
       "    .dataframe thead th {\n",
       "        text-align: right;\n",
       "    }\n",
       "</style>\n",
       "<table border=\"1\" class=\"dataframe\">\n",
       "  <thead>\n",
       "    <tr style=\"text-align: right;\">\n",
       "      <th></th>\n",
       "      <th>total_pnl</th>\n",
       "      <th>net_pnl</th>\n",
       "      <th>commission</th>\n",
       "      <th>num</th>\n",
       "      <th>holding_period</th>\n",
       "    </tr>\n",
       "  </thead>\n",
       "  <tbody>\n",
       "    <tr>\n",
       "      <th>2019-01-04</th>\n",
       "      <td>-3.0</td>\n",
       "      <td>-3.0</td>\n",
       "      <td>0.0</td>\n",
       "      <td>1.0</td>\n",
       "      <td>84.0</td>\n",
       "    </tr>\n",
       "    <tr>\n",
       "      <th>2019-01-07</th>\n",
       "      <td>-0.0</td>\n",
       "      <td>-0.0</td>\n",
       "      <td>0.0</td>\n",
       "      <td>0.0</td>\n",
       "      <td>0.0</td>\n",
       "    </tr>\n",
       "    <tr>\n",
       "      <th>2019-01-08</th>\n",
       "      <td>-0.0</td>\n",
       "      <td>-0.0</td>\n",
       "      <td>0.0</td>\n",
       "      <td>0.0</td>\n",
       "      <td>0.0</td>\n",
       "    </tr>\n",
       "    <tr>\n",
       "      <th>2019-01-09</th>\n",
       "      <td>-0.0</td>\n",
       "      <td>-0.0</td>\n",
       "      <td>0.0</td>\n",
       "      <td>0.0</td>\n",
       "      <td>0.0</td>\n",
       "    </tr>\n",
       "    <tr>\n",
       "      <th>2019-01-10</th>\n",
       "      <td>-0.0</td>\n",
       "      <td>-0.0</td>\n",
       "      <td>0.0</td>\n",
       "      <td>0.0</td>\n",
       "      <td>0.0</td>\n",
       "    </tr>\n",
       "    <tr>\n",
       "      <th>...</th>\n",
       "      <td>...</td>\n",
       "      <td>...</td>\n",
       "      <td>...</td>\n",
       "      <td>...</td>\n",
       "      <td>...</td>\n",
       "    </tr>\n",
       "    <tr>\n",
       "      <th>2021-02-23</th>\n",
       "      <td>-0.0</td>\n",
       "      <td>-0.0</td>\n",
       "      <td>0.0</td>\n",
       "      <td>0.0</td>\n",
       "      <td>0.0</td>\n",
       "    </tr>\n",
       "    <tr>\n",
       "      <th>2021-02-24</th>\n",
       "      <td>-0.0</td>\n",
       "      <td>-0.0</td>\n",
       "      <td>0.0</td>\n",
       "      <td>0.0</td>\n",
       "      <td>0.0</td>\n",
       "    </tr>\n",
       "    <tr>\n",
       "      <th>2021-02-25</th>\n",
       "      <td>-0.0</td>\n",
       "      <td>-0.0</td>\n",
       "      <td>0.0</td>\n",
       "      <td>0.0</td>\n",
       "      <td>0.0</td>\n",
       "    </tr>\n",
       "    <tr>\n",
       "      <th>2021-02-26</th>\n",
       "      <td>-0.0</td>\n",
       "      <td>-0.0</td>\n",
       "      <td>0.0</td>\n",
       "      <td>0.0</td>\n",
       "      <td>0.0</td>\n",
       "    </tr>\n",
       "    <tr>\n",
       "      <th>2021-03-01</th>\n",
       "      <td>-0.0</td>\n",
       "      <td>-0.0</td>\n",
       "      <td>0.0</td>\n",
       "      <td>0.0</td>\n",
       "      <td>0.0</td>\n",
       "    </tr>\n",
       "  </tbody>\n",
       "</table>\n",
       "<p>521 rows × 5 columns</p>\n",
       "</div>"
      ],
      "text/plain": [
       "            total_pnl  net_pnl  commission  num  holding_period\n",
       "2019-01-04       -3.0     -3.0         0.0  1.0            84.0\n",
       "2019-01-07       -0.0     -0.0         0.0  0.0             0.0\n",
       "2019-01-08       -0.0     -0.0         0.0  0.0             0.0\n",
       "2019-01-09       -0.0     -0.0         0.0  0.0             0.0\n",
       "2019-01-10       -0.0     -0.0         0.0  0.0             0.0\n",
       "...               ...      ...         ...  ...             ...\n",
       "2021-02-23       -0.0     -0.0         0.0  0.0             0.0\n",
       "2021-02-24       -0.0     -0.0         0.0  0.0             0.0\n",
       "2021-02-25       -0.0     -0.0         0.0  0.0             0.0\n",
       "2021-02-26       -0.0     -0.0         0.0  0.0             0.0\n",
       "2021-03-01       -0.0     -0.0         0.0  0.0             0.0\n",
       "\n",
       "[521 rows x 5 columns]"
      ]
     },
     "execution_count": 86,
     "metadata": {},
     "output_type": "execute_result"
    }
   ],
   "source": [
    "df"
   ]
  },
  {
   "cell_type": "code",
   "execution_count": 87,
   "metadata": {},
   "outputs": [
    {
     "data": {
      "text/plain": [
       "<matplotlib.collections.PolyCollection at 0x7fc27bec5fd0>"
      ]
     },
     "execution_count": 87,
     "metadata": {},
     "output_type": "execute_result"
    },
    {
     "data": {
      "image/png": "[encoded data removed]",
      "text/plain": [
       "<Figure size 432x288 with 1 Axes>"
      ]
     },
     "metadata": {
      "needs_background": "light"
     },
     "output_type": "display_data"
    }
   ],
   "source": [
    "# 2021-2之后为样本外效果\n",
    "import matplotlib.pyplot as plt\n",
    "value_ser = df['net_pnl'].cumsum()\n",
    "value_ser.plot()\n",
    "plt.fill_between(value_ser[datetime.date(2021, 2, 1):].index,\n",
    "                         value_ser.min(),\n",
    "                         value_ser.max(),\n",
    "                         facecolor='green',\n",
    "                         alpha=0.3)"
   ]
  },
  {
   "cell_type": "code",
   "execution_count": 88,
   "metadata": {},
   "outputs": [
    {
     "name": "stdout",
     "output_type": "stream",
     "text": [
      "------------------------------\n",
      "交易天数：\t521\n",
      "区间收益：\t643.00\n",
      "日度胜率：\t55.10%\n",
      "日盈亏比：\t1.66:1\n",
      "------------------------------\n",
      "最大回撤：\t143.00\n",
      "回撤起始：\t2019-08-02\n",
      "回撤结束：\t2019-09-23\n",
      "------------------------------\n",
      "交易次数：\t49.0\n",
      "每日平均：\t0.09\n",
      "每笔收益：\t13.12\n",
      "------------------------------\n",
      "信息比率：\t0.07\n",
      "------------------------------\n"
     ]
    },
    {
     "data": {
      "text/plain": [
       "(643.0, 143.0, 13.122448979591837, 49.0, 521, 0.06663128486757997)"
      ]
     },
     "execution_count": 88,
     "metadata": {},
     "output_type": "execute_result"
    },
    {
     "data": {
      "image/png": "[encoded data removed]",
      "text/plain": [
       "<Figure size 432x288 with 1 Axes>"
      ]
     },
     "metadata": {
      "needs_background": "light"
     },
     "output_type": "display_data"
    }
   ],
   "source": [
    "from wmpy.trader.utility import performance_summary\n",
    "performance_summary(df, _plot=True, _print=True)"
   ]
  },
  {
   "cell_type": "code",
   "execution_count": 89,
   "metadata": {},
   "outputs": [],
   "source": [
    "# 反转策略\n",
    "def reverse_strategy(bar_df, date, contract, parameter_dict=None):\n",
    "    # 参数\n",
    "    N = parameter_dict['N']\n",
    "    coefficient = parameter_dict['coefficient']\n",
    "    \n",
    "    # 调取前2天数据预热\n",
    "    start_date = get_previous_date(date, 2)\n",
    "    end_date = date\n",
    "    data_df = load_bar_period(contract, start_date, end_date)\n",
    "    data_df = bar_filter(data_df)\n",
    "    # 反转策略\n",
    "    # 若当前N分钟的最高价>观察卖出价，认为它已经到了当日阻力位，可能发生行情反转，在反转卖出价挂上卖出开仓的停止单\n",
    "    # 若当前N分钟的最低价<观察买入价，认为它已经到了当日支撑位，可能发生行情反转，在反转买入价挂上买入开仓的停止单\n",
    "    temp_df = data_df.copy()   # 防止改掉原数据，引起不必要的bug\n",
    "    temp_df['cummax'] = temp_df['close_price'].rolling(N).max()\n",
    "    temp_df['cummin'] = temp_df['close_price'].rolling(N).min()\n",
    "    temp_df['Ssetup'] = temp_df['high_price']+coefficient*(temp_df['close_price']-temp_df['low_price'])\n",
    "    temp_df['Bsetup'] = temp_df['low_price']-coefficient*(temp_df['high_price']-temp_df['close_price'])\n",
    "    \n",
    "    ## 根据信号确定仓位\n",
    "\n",
    "\n",
    "    def _cal_signal(x):\n",
    "        cummax = x['cummax']\n",
    "        cummin = x['cummin']\n",
    "        Ssetup = x['Ssetup']\n",
    "        Bsetup = x['Bsetup']\n",
    "\n",
    "        if pd.isna(cummax) or pd.isna(cummin) or pd.isna(Ssetup) or pd.isna(Bsetup):# 如果任意一个值为空\n",
    "            signal = 0\n",
    "        elif cummax > Ssetup:    \n",
    "            signal = -1\n",
    "        elif cummin < Bsetup:\n",
    "            signal = 1\n",
    "        else:\n",
    "            signal = 0\n",
    "        return signal\n",
    "\n",
    "    temp_df['signal'] = temp_df.apply(_cal_signal, axis=1) # 对temp_df的每一行做判断\n",
    "    temp_df['position'] = temp_df['signal'].shift(1) # 根据上一分钟的信号决定仓位\n",
    "    temp_df = pd.DataFrame(temp_df, index=bar_df.index)\n",
    "    signal_ser = temp_df['signal'].copy()\n",
    "    position_ser = temp_df['position'].copy()\n",
    "    \n",
    "    # 过滤掉夜盘的信号，防止隔夜持仓，也防止加班盯盘\n",
    "    if len(np.unique(bar_df.index.date)) > 1:\n",
    "        current_date = bar_df.index[-1].date()\n",
    "        # 以凌晨3点位分界，划分夜盘和日盘\n",
    "        split_time = datetime.datetime.combine(current_date, datetime.time(3, 0))\n",
    "\n",
    "        night_end_time = bar_df[:split_time].index[-1]\n",
    "        day_start_time = bar_df[split_time:].index[0]\n",
    "        signal_ser.loc[:night_end_time] = 0\n",
    "\n",
    "\n",
    "    ## 返回这段时间的持仓序列\n",
    "    position_ser.iloc[0] = 0\n",
    "    position_ser.iloc[-1] = 0\n",
    "    position_ser.iloc[-2] = 0\n",
    "    position_ser.iloc[-3] = 0\n",
    "    \n",
    "    return position_ser"
   ]
  },
  {
   "cell_type": "code",
   "execution_count": 94,
   "metadata": {},
   "outputs": [
    {
     "name": "stdout",
     "output_type": "stream",
     "text": [
      "2020-02-03  reach price limit\n",
      "2020-12-21  reach price limit\n",
      "2020-02-03  reach price limit\n",
      "2020-12-21  reach price limit\n",
      "2020-02-03  reach price limit\n",
      "2020-12-21  reach price limit\n",
      "2020-02-03  reach price limit\n",
      "2020-12-21  reach price limit\n",
      "2020-02-03  reach price limit\n",
      "2020-12-21  reach price limit\n",
      "2020-02-03  reach price limit\n",
      "2020-12-21  reach price limit\n",
      "2020-02-03  reach price limit\n",
      "2020-12-21  reach price limit\n",
      "2020-02-03  reach price limit\n",
      "2020-12-21  reach price limit\n",
      "2020-02-03  reach price limit\n",
      "2020-12-21  reach price limit\n",
      "2020-02-03  reach price limit\n",
      "2020-12-21  reach price limit\n",
      "2020-02-03  reach price limit\n",
      "2020-12-21  reach price limit\n",
      "2020-02-03  reach price limit\n",
      "2020-12-21  reach price limit\n",
      "2020-02-03  reach price limit\n",
      "2020-12-21  reach price limit\n",
      "2020-02-03  reach price limit\n",
      "2020-12-21  reach price limit\n",
      "2020-02-03  reach price limit\n",
      "2020-12-21  reach price limit\n",
      "2020-02-03  reach price limit\n",
      "2020-12-21  reach price limit\n",
      "2020-02-03  reach price limit\n",
      "2020-12-21  reach price limit\n",
      "2020-02-03  reach price limit\n",
      "2020-12-21  reach price limit\n",
      "2020-02-03  reach price limit\n",
      "2020-12-21  reach price limit\n",
      "2020-02-03  reach price limit\n",
      "2020-12-21  reach price limit\n",
      "2020-02-03  reach price limit\n",
      "2020-12-21  reach price limit\n",
      "2020-02-03  reach price limit\n",
      "2020-12-21  reach price limit\n",
      "2020-02-03  reach price limit\n",
      "2020-12-21  reach price limit\n",
      "2020-02-03  reach price limit\n",
      "2020-12-21  reach price limit\n",
      "2020-02-03  reach price limit\n",
      "2020-12-21  reach price limit\n",
      "2020-02-03  reach price limit\n",
      "2020-12-21  reach price limit\n",
      "2020-02-03  reach price limit\n",
      "2020-12-21  reach price limit\n",
      "2020-02-03  reach price limit\n",
      "2020-12-21  reach price limit\n"
     ]
    }
   ],
   "source": [
    "# 网格搜索调整参数\n",
    "best_score = -20000\n",
    "for n in [5,10,30,60]:\n",
    "    for c in [0.1,0.15,0.2,0.25,0.3,0.35,0.4]:\n",
    "        # 对于每种参数可能的组合，进行一次训练\n",
    "            parameter_dict = dict(N = n, coefficient = c )\n",
    "            df = cal_all_pnl(20190104, 20201231, reverse_strategy, parameter_dict, symbol='rb', contract=None, workers=None,mode='take', verbose=False, bar_filter=bar_filter)\n",
    "            df.loc[datetime.date(2020, 2, 3)] = 0, 0, 0, 0, 0\n",
    "            df.loc[datetime.date(2020, 12, 21)] = 0, 0, 0, 0, 0\n",
    "            score = df['net_pnl'].sum()\n",
    "            # 找到表现最好的参数\n",
    "            if score > best_score:\n",
    "                best_score = score\n",
    "                best_parameters = dict(N = n, coefficient = c)"
   ]
  },
  {
   "cell_type": "code",
   "execution_count": 95,
   "metadata": {},
   "outputs": [
    {
     "data": {
      "text/plain": [
       "{'N': 60, 'coefficient': 0.15}"
      ]
     },
     "execution_count": 95,
     "metadata": {},
     "output_type": "execute_result"
    }
   ],
   "source": [
    "best_parameters"
   ]
  },
  {
   "cell_type": "code",
   "execution_count": 96,
   "metadata": {},
   "outputs": [
    {
     "name": "stdout",
     "output_type": "stream",
     "text": [
      "2020-02-03  reach price limit\n",
      "2020-12-21  reach price limit\n"
     ]
    }
   ],
   "source": [
    "df = cal_all_pnl(20190104, 20210301, reverse_strategy, best_parameters, symbol='rb', contract=None, workers=None,mode='take', verbose=False, bar_filter=bar_filter)"
   ]
  },
  {
   "cell_type": "code",
   "execution_count": 99,
   "metadata": {},
   "outputs": [],
   "source": [
    "df.loc[datetime.date(2020, 2, 3)] = 0, 0, 0, 0, 0\n",
    "df.loc[datetime.date(2020, 12, 21)] = 0, 0, 0, 0, 0"
   ]
  },
  {
   "cell_type": "code",
   "execution_count": 100,
   "metadata": {},
   "outputs": [
    {
     "data": {
      "text/html": [
       "<div>\n",
       "<style scoped>\n",
       "    .dataframe tbody tr th:only-of-type {\n",
       "        vertical-align: middle;\n",
       "    }\n",
       "\n",
       "    .dataframe tbody tr th {\n",
       "        vertical-align: top;\n",
       "    }\n",
       "\n",
       "    .dataframe thead th {\n",
       "        text-align: right;\n",
       "    }\n",
       "</style>\n",
       "<table border=\"1\" class=\"dataframe\">\n",
       "  <thead>\n",
       "    <tr style=\"text-align: right;\">\n",
       "      <th></th>\n",
       "      <th>total_pnl</th>\n",
       "      <th>net_pnl</th>\n",
       "      <th>commission</th>\n",
       "      <th>num</th>\n",
       "      <th>holding_period</th>\n",
       "    </tr>\n",
       "  </thead>\n",
       "  <tbody>\n",
       "    <tr>\n",
       "      <th>2019-01-04</th>\n",
       "      <td>-19.0</td>\n",
       "      <td>-19.0</td>\n",
       "      <td>0.0</td>\n",
       "      <td>29.0</td>\n",
       "      <td>342.0</td>\n",
       "    </tr>\n",
       "    <tr>\n",
       "      <th>2019-01-07</th>\n",
       "      <td>-97.0</td>\n",
       "      <td>-97.0</td>\n",
       "      <td>0.0</td>\n",
       "      <td>34.0</td>\n",
       "      <td>342.0</td>\n",
       "    </tr>\n",
       "    <tr>\n",
       "      <th>2019-01-08</th>\n",
       "      <td>-1.0</td>\n",
       "      <td>-1.0</td>\n",
       "      <td>0.0</td>\n",
       "      <td>19.0</td>\n",
       "      <td>342.0</td>\n",
       "    </tr>\n",
       "    <tr>\n",
       "      <th>2019-01-09</th>\n",
       "      <td>-15.0</td>\n",
       "      <td>-15.0</td>\n",
       "      <td>0.0</td>\n",
       "      <td>29.0</td>\n",
       "      <td>342.0</td>\n",
       "    </tr>\n",
       "    <tr>\n",
       "      <th>2019-01-10</th>\n",
       "      <td>-60.0</td>\n",
       "      <td>-60.0</td>\n",
       "      <td>0.0</td>\n",
       "      <td>29.0</td>\n",
       "      <td>342.0</td>\n",
       "    </tr>\n",
       "    <tr>\n",
       "      <th>...</th>\n",
       "      <td>...</td>\n",
       "      <td>...</td>\n",
       "      <td>...</td>\n",
       "      <td>...</td>\n",
       "      <td>...</td>\n",
       "    </tr>\n",
       "    <tr>\n",
       "      <th>2021-02-23</th>\n",
       "      <td>20.0</td>\n",
       "      <td>20.0</td>\n",
       "      <td>0.0</td>\n",
       "      <td>13.0</td>\n",
       "      <td>342.0</td>\n",
       "    </tr>\n",
       "    <tr>\n",
       "      <th>2021-02-24</th>\n",
       "      <td>-57.0</td>\n",
       "      <td>-57.0</td>\n",
       "      <td>0.0</td>\n",
       "      <td>24.0</td>\n",
       "      <td>342.0</td>\n",
       "    </tr>\n",
       "    <tr>\n",
       "      <th>2021-02-25</th>\n",
       "      <td>-135.0</td>\n",
       "      <td>-135.0</td>\n",
       "      <td>0.0</td>\n",
       "      <td>30.0</td>\n",
       "      <td>342.0</td>\n",
       "    </tr>\n",
       "    <tr>\n",
       "      <th>2021-02-26</th>\n",
       "      <td>-33.0</td>\n",
       "      <td>-33.0</td>\n",
       "      <td>0.0</td>\n",
       "      <td>27.0</td>\n",
       "      <td>342.0</td>\n",
       "    </tr>\n",
       "    <tr>\n",
       "      <th>2021-03-01</th>\n",
       "      <td>-33.0</td>\n",
       "      <td>-33.0</td>\n",
       "      <td>0.0</td>\n",
       "      <td>27.0</td>\n",
       "      <td>342.0</td>\n",
       "    </tr>\n",
       "  </tbody>\n",
       "</table>\n",
       "<p>521 rows × 5 columns</p>\n",
       "</div>"
      ],
      "text/plain": [
       "            total_pnl  net_pnl  commission   num  holding_period\n",
       "2019-01-04      -19.0    -19.0         0.0  29.0           342.0\n",
       "2019-01-07      -97.0    -97.0         0.0  34.0           342.0\n",
       "2019-01-08       -1.0     -1.0         0.0  19.0           342.0\n",
       "2019-01-09      -15.0    -15.0         0.0  29.0           342.0\n",
       "2019-01-10      -60.0    -60.0         0.0  29.0           342.0\n",
       "...               ...      ...         ...   ...             ...\n",
       "2021-02-23       20.0     20.0         0.0  13.0           342.0\n",
       "2021-02-24      -57.0    -57.0         0.0  24.0           342.0\n",
       "2021-02-25     -135.0   -135.0         0.0  30.0           342.0\n",
       "2021-02-26      -33.0    -33.0         0.0  27.0           342.0\n",
       "2021-03-01      -33.0    -33.0         0.0  27.0           342.0\n",
       "\n",
       "[521 rows x 5 columns]"
      ]
     },
     "execution_count": 100,
     "metadata": {},
     "output_type": "execute_result"
    }
   ],
   "source": [
    "df"
   ]
  },
  {
   "cell_type": "code",
   "execution_count": 101,
   "metadata": {},
   "outputs": [
    {
     "data": {
      "text/plain": [
       "<matplotlib.collections.PolyCollection at 0x7fc281d79950>"
      ]
     },
     "execution_count": 101,
     "metadata": {},
     "output_type": "execute_result"
    },
    {
     "data": {
      "image/png": "[encoded data removed]",
      "text/plain": [
       "<Figure size 432x288 with 1 Axes>"
      ]
     },
     "metadata": {
      "needs_background": "light"
     },
     "output_type": "display_data"
    }
   ],
   "source": [
    "# 2021-1之后为样本外效果\n",
    "import matplotlib.pyplot as plt\n",
    "value_ser = df['net_pnl'].cumsum()\n",
    "value_ser.plot()\n",
    "plt.fill_between(value_ser[datetime.date(2021, 1, 1):].index,\n",
    "                         value_ser.min(),\n",
    "                         value_ser.max(),\n",
    "                         facecolor='green',\n",
    "                         alpha=0.3)"
   ]
  },
  {
   "cell_type": "code",
   "execution_count": 102,
   "metadata": {},
   "outputs": [
    {
     "name": "stdout",
     "output_type": "stream",
     "text": [
      "------------------------------\n",
      "交易天数：\t521\n",
      "区间收益：\t-13402.00\n",
      "日度胜率：\t29.15%\n",
      "日盈亏比：\t0.59:1\n",
      "------------------------------\n",
      "最大回撤：\t13383.00\n",
      "回撤起始：\t2019-01-04\n",
      "回撤结束：\t2021-03-01\n",
      "------------------------------\n",
      "交易次数：\t11500.0\n",
      "每日平均：\t22.07\n",
      "每笔收益：\t-1.17\n",
      "------------------------------\n",
      "信息比率：\t-0.53\n",
      "------------------------------\n"
     ]
    },
    {
     "data": {
      "text/plain": [
       "(-13402.0, 13383.0, -1.1653913043478261, 11500.0, 521, -0.5250363240941229)"
      ]
     },
     "execution_count": 102,
     "metadata": {},
     "output_type": "execute_result"
    },
    {
     "data": {
      "image/png": "[encoded data removed]",
      "text/plain": [
       "<Figure size 432x288 with 1 Axes>"
      ]
     },
     "metadata": {
      "needs_background": "light"
     },
     "output_type": "display_data"
    }
   ],
   "source": [
    "from wmpy.trader.utility import performance_summary\n",
    "performance_summary(df, _plot=True, _print=True)"
   ]
  },
  {
   "cell_type": "code",
   "execution_count": null,
   "metadata": {},
   "outputs": [],
   "source": []
  }
 ],
 "metadata": {
  "kernelspec": {
   "display_name": "Python 3",
   "language": "python",
   "name": "python3"
  },
  "language_info": {
   "codemirror_mode": {
    "name": "ipython",
    "version": 3
   },
   "file_extension": ".py",
   "mimetype": "text/x-python",
   "name": "python",
   "nbconvert_exporter": "python",
   "pygments_lexer": "ipython3",
   "version": "3.7.5"
  }
 },
 "nbformat": 4,
 "nbformat_minor": 4
}

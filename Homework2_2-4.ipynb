{
 "cells": [
  {
   "cell_type": "code",
   "execution_count": 1,
   "metadata": {},
   "outputs": [],
   "source": [
    "import pandas as pd\n",
    "import numpy as np\n",
    "import datetime\n",
    "import talib\n",
    "import matplotlib.pyplot as plt\n",
    "from wmpy.conf.settings import product_info_df, trade_days_list\n",
    "from wmpy.trader.utility import get_previous_date, load_bar, load_bar_period, get_commission, map_parallel, get_trading_days, get_main_contract, read_sql_bar, get_symbol_name, np_shift, update_main_contract, get_main_contract_from_json\n",
    "from wmpy.app.cta_backtester.backtesting_bar import cal_all_pnl, cal_daily_pnl # 注意这里是backtesting_bar"
   ]
  },
  {
   "cell_type": "code",
   "execution_count": 2,
   "metadata": {},
   "outputs": [],
   "source": [
    "#过滤掉非交易时间\n",
    "def bar_filter(bar_df, contract=None):\n",
    "    def is_trading_time(dt):\n",
    "        condition = (\n",
    "            (dt.time() >= datetime.time(9, 0) and dt.time() < datetime.time(11, 30))    # 上午\n",
    "         or (dt.time() >= datetime.time(13, 0) and dt.time() < datetime.time(15, 0))  # 下午\n",
    "         or (dt.time() >= datetime.time(21, 0) and dt.time() < datetime.time(23, 0)))   # 夜盘\n",
    "        return condition\n",
    "    bool_list = [is_trading_time(x) for x in bar_df.index]\n",
    "    return bar_df.loc[bool_list].copy()"
   ]
  },
  {
   "cell_type": "code",
   "execution_count": 3,
   "metadata": {},
   "outputs": [
    {
     "data": {
      "application/vnd.jupyter.widget-view+json": {
       "model_id": "5e93d601d614417499a7e19e72cff843",
       "version_major": 2,
       "version_minor": 0
      },
      "text/plain": [
       "QgridWidget(grid_options={'fullWidthRows': True, 'syncColumnCellResize': True, 'forceFitColumns': True, 'defau…"
      ]
     },
     "metadata": {},
     "output_type": "display_data"
    }
   ],
   "source": [
    "#查看期货品种\n",
    "import qgrid\n",
    "qgrid.show_grid(product_info_df)"
   ]
  },
  {
   "cell_type": "code",
   "execution_count": 4,
   "metadata": {},
   "outputs": [],
   "source": [
    "# hp滤波\n",
    "def hp(x, lamb = 50):\n",
    "    def D_matrix(N):\n",
    "        D = np.zeros((N-1,N))\n",
    "        D[:,1:] = np.eye(N-1)\n",
    "        D[:,:-1] -= np.eye(N-1)\n",
    "        \"\"\"D1\n",
    "        [[-1.  1.  0. ...  0.  0.  0.]\n",
    "         [ 0. -1.  1. ...  0.  0.  0.]\n",
    "         [ 0.  0. -1. ...  0.  0.  0.]\n",
    "         ...\n",
    "         [ 0.  0.  0. ...  1.  0.  0.]\n",
    "         [ 0.  0.  0. ... -1.  1.  0.]\n",
    "         [ 0.  0.  0. ...  0. -1.  1.]]\n",
    "        \"\"\"\n",
    "        return D\n",
    "    N = len(x)\n",
    "    D1 = D_matrix(N)\n",
    "    D2 = D_matrix(N-1)\n",
    "    D = D2 @ D1\n",
    "    y = np.linalg.inv((np.eye(N)+lamb*D.T@D))@ x\n",
    "    return y[-1]"
   ]
  },
  {
   "cell_type": "code",
   "execution_count": 5,
   "metadata": {},
   "outputs": [],
   "source": [
    "# l1滤波\n",
    "def l1(x, lamb1 = 50, lamb2 = 50):\n",
    "    def D_matrix(N):\n",
    "        D = np.zeros((N-1,N))\n",
    "        D[:,1:] = np.eye(N-1)\n",
    "        D[:,:-1] -= np.eye(N-1)\n",
    "        \"\"\"D1\n",
    "        [[-1.  1.  0. ...  0.  0.  0.]\n",
    "         [ 0. -1.  1. ...  0.  0.  0.]\n",
    "         [ 0.  0. -1. ...  0.  0.  0.]\n",
    "         ...\n",
    "         [ 0.  0.  0. ...  1.  0.  0.]\n",
    "         [ 0.  0.  0. ... -1.  1.  0.]\n",
    "         [ 0.  0.  0. ...  0. -1.  1.]]\n",
    "        \"\"\"\n",
    "        return D\n",
    "    N = len(x)\n",
    "    D1 = D_matrix(N)\n",
    "    D2 = D_matrix(N-1)\n",
    "    D = D2 @ D1\n",
    "    import cvxpy as cp\n",
    "    # Solve l1 trend filtering problem.\n",
    "    y = cp.Variable(shape=N)\n",
    "    obj = cp.Minimize(cp.sum_squares(y - x)+ lamb1 * cp.norm(D1*y, 1)+lamb2 * cp.norm(D*y,1) )\n",
    "    prob = cp.Problem(obj)\n",
    "    prob.solve(solver=cp.CVXOPT, verbose=False)\n",
    "    return np.array(y.value)[-1]"
   ]
  },
  {
   "cell_type": "code",
   "execution_count": 6,
   "metadata": {},
   "outputs": [],
   "source": [
    "# Fourier滤波\n",
    "def Fourier_filter(x,k=50):\n",
    "    y = np.fft.fft(x)\n",
    "    y[k:] = 0\n",
    "    x_ = np.fft.ifft(y)\n",
    "    res = []\n",
    "    for i in range(len(x_)):\n",
    "        res.append(x_[i].real)\n",
    "    return res[-1]"
   ]
  },
  {
   "cell_type": "code",
   "execution_count": 7,
   "metadata": {},
   "outputs": [],
   "source": [
    "from wmpy.trader.utility import update_main_contract, get_main_contract_from_json\n",
    "date = 20201231\n",
    "contract = 'rb2105' # 当天的主力合约"
   ]
  },
  {
   "cell_type": "code",
   "execution_count": 8,
   "metadata": {},
   "outputs": [
    {
     "data": {
      "text/html": [
       "<div>\n",
       "<style scoped>\n",
       "    .dataframe tbody tr th:only-of-type {\n",
       "        vertical-align: middle;\n",
       "    }\n",
       "\n",
       "    .dataframe tbody tr th {\n",
       "        vertical-align: top;\n",
       "    }\n",
       "\n",
       "    .dataframe thead th {\n",
       "        text-align: right;\n",
       "    }\n",
       "</style>\n",
       "<table border=\"1\" class=\"dataframe\">\n",
       "  <thead>\n",
       "    <tr style=\"text-align: right;\">\n",
       "      <th></th>\n",
       "      <th>contract</th>\n",
       "      <th>exchange</th>\n",
       "      <th>interval</th>\n",
       "      <th>volume</th>\n",
       "      <th>open_interest</th>\n",
       "      <th>open_price</th>\n",
       "      <th>high_price</th>\n",
       "      <th>low_price</th>\n",
       "      <th>close_price</th>\n",
       "      <th>bid_price_1</th>\n",
       "      <th>ask_price_1</th>\n",
       "    </tr>\n",
       "    <tr>\n",
       "      <th>datetime</th>\n",
       "      <th></th>\n",
       "      <th></th>\n",
       "      <th></th>\n",
       "      <th></th>\n",
       "      <th></th>\n",
       "      <th></th>\n",
       "      <th></th>\n",
       "      <th></th>\n",
       "      <th></th>\n",
       "      <th></th>\n",
       "      <th></th>\n",
       "    </tr>\n",
       "  </thead>\n",
       "  <tbody>\n",
       "    <tr>\n",
       "      <th>2020-12-30 21:00:00</th>\n",
       "      <td>rb2105</td>\n",
       "      <td>SHFE</td>\n",
       "      <td>1m</td>\n",
       "      <td>29260.0</td>\n",
       "      <td>1183578.0</td>\n",
       "      <td>4257.0</td>\n",
       "      <td>4263.0</td>\n",
       "      <td>4254.0</td>\n",
       "      <td>4263.0</td>\n",
       "      <td>4257.0</td>\n",
       "      <td>4259.0</td>\n",
       "    </tr>\n",
       "    <tr>\n",
       "      <th>2020-12-30 21:01:00</th>\n",
       "      <td>rb2105</td>\n",
       "      <td>SHFE</td>\n",
       "      <td>1m</td>\n",
       "      <td>22412.0</td>\n",
       "      <td>1184489.0</td>\n",
       "      <td>4264.0</td>\n",
       "      <td>4264.0</td>\n",
       "      <td>4258.0</td>\n",
       "      <td>4258.0</td>\n",
       "      <td>4263.0</td>\n",
       "      <td>4264.0</td>\n",
       "    </tr>\n",
       "    <tr>\n",
       "      <th>2020-12-30 21:02:00</th>\n",
       "      <td>rb2105</td>\n",
       "      <td>SHFE</td>\n",
       "      <td>1m</td>\n",
       "      <td>16091.0</td>\n",
       "      <td>1185280.0</td>\n",
       "      <td>4258.0</td>\n",
       "      <td>4266.0</td>\n",
       "      <td>4256.0</td>\n",
       "      <td>4265.0</td>\n",
       "      <td>4258.0</td>\n",
       "      <td>4259.0</td>\n",
       "    </tr>\n",
       "    <tr>\n",
       "      <th>2020-12-30 21:03:00</th>\n",
       "      <td>rb2105</td>\n",
       "      <td>SHFE</td>\n",
       "      <td>1m</td>\n",
       "      <td>21586.0</td>\n",
       "      <td>1184805.0</td>\n",
       "      <td>4265.0</td>\n",
       "      <td>4274.0</td>\n",
       "      <td>4265.0</td>\n",
       "      <td>4271.0</td>\n",
       "      <td>4265.0</td>\n",
       "      <td>4266.0</td>\n",
       "    </tr>\n",
       "    <tr>\n",
       "      <th>2020-12-30 21:04:00</th>\n",
       "      <td>rb2105</td>\n",
       "      <td>SHFE</td>\n",
       "      <td>1m</td>\n",
       "      <td>12940.0</td>\n",
       "      <td>1184325.0</td>\n",
       "      <td>4272.0</td>\n",
       "      <td>4276.0</td>\n",
       "      <td>4271.0</td>\n",
       "      <td>4272.0</td>\n",
       "      <td>4271.0</td>\n",
       "      <td>4272.0</td>\n",
       "    </tr>\n",
       "    <tr>\n",
       "      <th>...</th>\n",
       "      <td>...</td>\n",
       "      <td>...</td>\n",
       "      <td>...</td>\n",
       "      <td>...</td>\n",
       "      <td>...</td>\n",
       "      <td>...</td>\n",
       "      <td>...</td>\n",
       "      <td>...</td>\n",
       "      <td>...</td>\n",
       "      <td>...</td>\n",
       "      <td>...</td>\n",
       "    </tr>\n",
       "    <tr>\n",
       "      <th>2020-12-31 14:55:00</th>\n",
       "      <td>rb2105</td>\n",
       "      <td>SHFE</td>\n",
       "      <td>1m</td>\n",
       "      <td>14902.0</td>\n",
       "      <td>1219791.0</td>\n",
       "      <td>4370.0</td>\n",
       "      <td>4378.0</td>\n",
       "      <td>4366.0</td>\n",
       "      <td>4377.0</td>\n",
       "      <td>4369.0</td>\n",
       "      <td>4370.0</td>\n",
       "    </tr>\n",
       "    <tr>\n",
       "      <th>2020-12-31 14:56:00</th>\n",
       "      <td>rb2105</td>\n",
       "      <td>SHFE</td>\n",
       "      <td>1m</td>\n",
       "      <td>24563.0</td>\n",
       "      <td>1221455.0</td>\n",
       "      <td>4377.0</td>\n",
       "      <td>4386.0</td>\n",
       "      <td>4375.0</td>\n",
       "      <td>4385.0</td>\n",
       "      <td>4376.0</td>\n",
       "      <td>4377.0</td>\n",
       "    </tr>\n",
       "    <tr>\n",
       "      <th>2020-12-31 14:57:00</th>\n",
       "      <td>rb2105</td>\n",
       "      <td>SHFE</td>\n",
       "      <td>1m</td>\n",
       "      <td>14739.0</td>\n",
       "      <td>1219919.0</td>\n",
       "      <td>4384.0</td>\n",
       "      <td>4389.0</td>\n",
       "      <td>4383.0</td>\n",
       "      <td>4384.0</td>\n",
       "      <td>4384.0</td>\n",
       "      <td>4385.0</td>\n",
       "    </tr>\n",
       "    <tr>\n",
       "      <th>2020-12-31 14:58:00</th>\n",
       "      <td>rb2105</td>\n",
       "      <td>SHFE</td>\n",
       "      <td>1m</td>\n",
       "      <td>22693.0</td>\n",
       "      <td>1223221.0</td>\n",
       "      <td>4383.0</td>\n",
       "      <td>4396.0</td>\n",
       "      <td>4383.0</td>\n",
       "      <td>4393.0</td>\n",
       "      <td>4383.0</td>\n",
       "      <td>4384.0</td>\n",
       "    </tr>\n",
       "    <tr>\n",
       "      <th>2020-12-31 14:59:00</th>\n",
       "      <td>rb2105</td>\n",
       "      <td>SHFE</td>\n",
       "      <td>1m</td>\n",
       "      <td>31754.0</td>\n",
       "      <td>1217346.0</td>\n",
       "      <td>4394.0</td>\n",
       "      <td>4400.0</td>\n",
       "      <td>4386.0</td>\n",
       "      <td>4388.0</td>\n",
       "      <td>4393.0</td>\n",
       "      <td>4394.0</td>\n",
       "    </tr>\n",
       "  </tbody>\n",
       "</table>\n",
       "<p>346 rows × 11 columns</p>\n",
       "</div>"
      ],
      "text/plain": [
       "                    contract exchange interval   volume  open_interest  \\\n",
       "datetime                                                                 \n",
       "2020-12-30 21:00:00   rb2105     SHFE       1m  29260.0      1183578.0   \n",
       "2020-12-30 21:01:00   rb2105     SHFE       1m  22412.0      1184489.0   \n",
       "2020-12-30 21:02:00   rb2105     SHFE       1m  16091.0      1185280.0   \n",
       "2020-12-30 21:03:00   rb2105     SHFE       1m  21586.0      1184805.0   \n",
       "2020-12-30 21:04:00   rb2105     SHFE       1m  12940.0      1184325.0   \n",
       "...                      ...      ...      ...      ...            ...   \n",
       "2020-12-31 14:55:00   rb2105     SHFE       1m  14902.0      1219791.0   \n",
       "2020-12-31 14:56:00   rb2105     SHFE       1m  24563.0      1221455.0   \n",
       "2020-12-31 14:57:00   rb2105     SHFE       1m  14739.0      1219919.0   \n",
       "2020-12-31 14:58:00   rb2105     SHFE       1m  22693.0      1223221.0   \n",
       "2020-12-31 14:59:00   rb2105     SHFE       1m  31754.0      1217346.0   \n",
       "\n",
       "                     open_price  high_price  low_price  close_price  \\\n",
       "datetime                                                              \n",
       "2020-12-30 21:00:00      4257.0      4263.0     4254.0       4263.0   \n",
       "2020-12-30 21:01:00      4264.0      4264.0     4258.0       4258.0   \n",
       "2020-12-30 21:02:00      4258.0      4266.0     4256.0       4265.0   \n",
       "2020-12-30 21:03:00      4265.0      4274.0     4265.0       4271.0   \n",
       "2020-12-30 21:04:00      4272.0      4276.0     4271.0       4272.0   \n",
       "...                         ...         ...        ...          ...   \n",
       "2020-12-31 14:55:00      4370.0      4378.0     4366.0       4377.0   \n",
       "2020-12-31 14:56:00      4377.0      4386.0     4375.0       4385.0   \n",
       "2020-12-31 14:57:00      4384.0      4389.0     4383.0       4384.0   \n",
       "2020-12-31 14:58:00      4383.0      4396.0     4383.0       4393.0   \n",
       "2020-12-31 14:59:00      4394.0      4400.0     4386.0       4388.0   \n",
       "\n",
       "                     bid_price_1  ask_price_1  \n",
       "datetime                                       \n",
       "2020-12-30 21:00:00       4257.0       4259.0  \n",
       "2020-12-30 21:01:00       4263.0       4264.0  \n",
       "2020-12-30 21:02:00       4258.0       4259.0  \n",
       "2020-12-30 21:03:00       4265.0       4266.0  \n",
       "2020-12-30 21:04:00       4271.0       4272.0  \n",
       "...                          ...          ...  \n",
       "2020-12-31 14:55:00       4369.0       4370.0  \n",
       "2020-12-31 14:56:00       4376.0       4377.0  \n",
       "2020-12-31 14:57:00       4384.0       4385.0  \n",
       "2020-12-31 14:58:00       4383.0       4384.0  \n",
       "2020-12-31 14:59:00       4393.0       4394.0  \n",
       "\n",
       "[346 rows x 11 columns]"
      ]
     },
     "execution_count": 8,
     "metadata": {},
     "output_type": "execute_result"
    }
   ],
   "source": [
    "bar_df = load_bar(contract, date)\n",
    "bar_df = bar_filter(bar_df) # 过滤非交易时间（最后一分钟虽然有行情，但无法交易，含有的信息量也很少）\n",
    "bar_df"
   ]
  },
  {
   "cell_type": "code",
   "execution_count": 9,
   "metadata": {},
   "outputs": [],
   "source": [
    "temp_df = bar_df.copy()\n",
    "window = 100\n",
    "temp_df['hp_filter'] = temp_df['close_price'].rolling(window).apply(hp,args=(1000,))\n",
    "temp_df['l1_filter'] = temp_df['close_price'].rolling(window).apply(l1,args=(10,10,))\n",
    "temp_df['Fourier_filter'] = temp_df['close_price'].rolling(window).apply(Fourier_filter,args=(3,))"
   ]
  },
  {
   "cell_type": "code",
   "execution_count": 10,
   "metadata": {},
   "outputs": [
    {
     "data": {
      "image/png": "[encoded data removed]",
      "text/plain": [
       "<Figure size 432x288 with 1 Axes>"
      ]
     },
     "metadata": {
      "needs_background": "light"
     },
     "output_type": "display_data"
    }
   ],
   "source": [
    "plt.plot(temp_df['close_price'], label='original')\n",
    "plt.plot(temp_df['l1_filter'], label='l1_filtered')\n",
    "plt.plot(temp_df['hp_filter'], label='hp_filtered')\n",
    "plt.plot(temp_df['Fourier_filter'], label='Fourier_filtered')\n",
    "plt.legend()\n",
    "plt.show()"
   ]
  },
  {
   "cell_type": "markdown",
   "metadata": {},
   "source": [
    "注：由于L1滤波运算缓慢，且存在不收敛的情况，在下面设计策略时先不考虑。"
   ]
  },
  {
   "cell_type": "code",
   "execution_count": 94,
   "metadata": {},
   "outputs": [],
   "source": [
    "# 基于HP滤波和Fourier滤波的策略\n",
    "# 可以发现当HP滤波后的均线上穿Fourier滤波后的均线时，价格上突，开仓做多\n",
    "# 当HP滤波后的均线下穿Fourier滤波后的均线时，价格下突，开仓做空\n",
    "def HF_strategy(bar_df, date, contract, parameter_dict=None):\n",
    "    LAMB = parameter_dict['LAMB']\n",
    "    FOURIER_K = parameter_dict['FOURIER_K']\n",
    "    WINDOW = parameter_dict['WINDOW']\n",
    "    \n",
    "    start_date = get_previous_date(date, 2)\n",
    "    end_date = date\n",
    "    data_df = load_bar_period(contract, start_date, end_date)\n",
    "    data_df = bar_filter(data_df)\n",
    "    \n",
    "    temp_df = data_df.copy()   # 防止改掉原数据，引起不必要的bug\n",
    "    temp_df['hp_filter'] = temp_df['close_price'].rolling(WINDOW).apply(hp,args=(LAMB,))\n",
    "    temp_df['Fourier_filter'] = temp_df['close_price'].rolling(WINDOW).apply(Fourier_filter,args=(FOURIER_K,))\n",
    "\n",
    "    def _cal_signal(x):\n",
    "            hp = x['hp_filter']\n",
    "            Fourier = x['Fourier_filter']\n",
    "\n",
    "            if pd.isna(hp) or pd.isna(Fourier):    # 如果任意一个值为空\n",
    "                signal = 0\n",
    "            elif hp >= Fourier:\n",
    "                signal = 1\n",
    "            else:\n",
    "                signal = -1\n",
    "            return signal\n",
    "\n",
    "    temp_df['signal'] = temp_df.apply(_cal_signal, axis=1) # 对temp_df的每一行做判断\n",
    "    temp_df['position'] = temp_df['signal'].shift(1)       # 根据上一分钟的信号决定仓位\n",
    "    temp_df = pd.DataFrame(temp_df, index=bar_df.index)\n",
    "    signal_ser = temp_df['signal'].copy()\n",
    "    position_ser = temp_df['position'].copy()\n",
    "    \n",
    "    # 过滤掉夜盘的信号，防止隔夜持仓，也防止加班盯盘\n",
    "    if len(np.unique(bar_df.index.date)) > 1:\n",
    "        current_date = bar_df.index[-1].date()\n",
    "        # 以凌晨3点位分界，划分夜盘和日盘\n",
    "        split_time = datetime.datetime.combine(current_date, datetime.time(3, 0))\n",
    "\n",
    "        night_end_time = bar_df[:split_time].index[-1]\n",
    "        day_start_time = bar_df[split_time:].index[0]\n",
    "        signal_ser.loc[:night_end_time] = 0\n",
    "\n",
    "\n",
    "    ## 返回这段时间的持仓序列\n",
    "    position_ser.iloc[0] = 0\n",
    "    position_ser.iloc[-1] = 0\n",
    "    position_ser.iloc[-2] = 0\n",
    "    position_ser.iloc[-3] = 0\n",
    "    \n",
    "    return position_ser"
   ]
  },
  {
   "cell_type": "code",
   "execution_count": 12,
   "metadata": {},
   "outputs": [],
   "source": [
    "# 网格搜索调整参数\n",
    "best_score = -10000\n",
    "for lamb in [10,100,1000]:\n",
    "    for k in [5,10]:\n",
    "        # 对于每种参数可能的组合，进行一次训练\n",
    "        parameter_dict = dict(WINDOW = 100, LAMB = lamb, FOURIER_K = k)\n",
    "        df = cal_all_pnl(20200901, 20201231, HF_strategy, parameter_dict, symbol='rb', contract=None, mode='take', commission='yesterday', rebate=0, bar_filter=bar_filter, workers=None, verbose=False)\n",
    "        df.loc[datetime.date(2020, 12, 21)] = 0, 0, 0, 0, 0\n",
    "        score = df['net_pnl'].sum()\n",
    "        # 找到表现最好的参数\n",
    "        if score > best_score:\n",
    "            best_score = score\n",
    "            best_parameters = dict(WINDOW = 100,LAMB = lamb, FOURIER_K = k)"
   ]
  },
  {
   "cell_type": "code",
   "execution_count": 13,
   "metadata": {},
   "outputs": [
    {
     "data": {
      "text/plain": [
       "{'WINDOW': 100, 'LAMB': 1000, 'FOURIER_K': 10}"
      ]
     },
     "execution_count": 13,
     "metadata": {},
     "output_type": "execute_result"
    }
   ],
   "source": [
    "best_parameters"
   ]
  },
  {
   "cell_type": "code",
   "execution_count": 128,
   "metadata": {},
   "outputs": [
    {
     "name": "stderr",
     "output_type": "stream",
     "text": [
      "100%|██████████| 117/117 [06:01<00:00,  3.09s/it]\n"
     ]
    }
   ],
   "source": [
    "df = cal_all_pnl(20200901, 20210228, HF_strategy, best_parameters, symbol='rb', contract=None, mode='take', commission='yesterday', rebate=0, bar_filter=bar_filter, workers=None, verbose=True)"
   ]
  },
  {
   "cell_type": "code",
   "execution_count": 96,
   "metadata": {},
   "outputs": [],
   "source": [
    "# 碰到了涨跌停，把df处理一下\n",
    "df.loc[datetime.date(2020, 12, 21)] = 0, 0, 0, 0, 0"
   ]
  },
  {
   "cell_type": "code",
   "execution_count": 129,
   "metadata": {},
   "outputs": [
    {
     "data": {
      "text/html": [
       "<div>\n",
       "<style scoped>\n",
       "    .dataframe tbody tr th:only-of-type {\n",
       "        vertical-align: middle;\n",
       "    }\n",
       "\n",
       "    .dataframe tbody tr th {\n",
       "        vertical-align: top;\n",
       "    }\n",
       "\n",
       "    .dataframe thead th {\n",
       "        text-align: right;\n",
       "    }\n",
       "</style>\n",
       "<table border=\"1\" class=\"dataframe\">\n",
       "  <thead>\n",
       "    <tr style=\"text-align: right;\">\n",
       "      <th></th>\n",
       "      <th>total_pnl</th>\n",
       "      <th>net_pnl</th>\n",
       "      <th>commission</th>\n",
       "      <th>num</th>\n",
       "      <th>holding_period</th>\n",
       "    </tr>\n",
       "  </thead>\n",
       "  <tbody>\n",
       "    <tr>\n",
       "      <th>2020-09-01</th>\n",
       "      <td>-23.0</td>\n",
       "      <td>-29.0393</td>\n",
       "      <td>6.0393</td>\n",
       "      <td>8.0</td>\n",
       "      <td>342.0</td>\n",
       "    </tr>\n",
       "    <tr>\n",
       "      <th>2020-09-02</th>\n",
       "      <td>-23.0</td>\n",
       "      <td>-28.2803</td>\n",
       "      <td>5.2803</td>\n",
       "      <td>7.0</td>\n",
       "      <td>342.0</td>\n",
       "    </tr>\n",
       "    <tr>\n",
       "      <th>2020-09-03</th>\n",
       "      <td>27.0</td>\n",
       "      <td>23.9667</td>\n",
       "      <td>3.0333</td>\n",
       "      <td>4.0</td>\n",
       "      <td>342.0</td>\n",
       "    </tr>\n",
       "    <tr>\n",
       "      <th>2020-09-04</th>\n",
       "      <td>-3.0</td>\n",
       "      <td>-13.5581</td>\n",
       "      <td>10.5581</td>\n",
       "      <td>14.0</td>\n",
       "      <td>342.0</td>\n",
       "    </tr>\n",
       "    <tr>\n",
       "      <th>2020-09-07</th>\n",
       "      <td>-52.0</td>\n",
       "      <td>-62.5140</td>\n",
       "      <td>10.5140</td>\n",
       "      <td>14.0</td>\n",
       "      <td>342.0</td>\n",
       "    </tr>\n",
       "    <tr>\n",
       "      <th>...</th>\n",
       "      <td>...</td>\n",
       "      <td>...</td>\n",
       "      <td>...</td>\n",
       "      <td>...</td>\n",
       "      <td>...</td>\n",
       "    </tr>\n",
       "    <tr>\n",
       "      <th>2021-02-22</th>\n",
       "      <td>59.0</td>\n",
       "      <td>51.7071</td>\n",
       "      <td>7.2929</td>\n",
       "      <td>8.0</td>\n",
       "      <td>342.0</td>\n",
       "    </tr>\n",
       "    <tr>\n",
       "      <th>2021-02-23</th>\n",
       "      <td>32.0</td>\n",
       "      <td>25.5780</td>\n",
       "      <td>6.4220</td>\n",
       "      <td>7.0</td>\n",
       "      <td>342.0</td>\n",
       "    </tr>\n",
       "    <tr>\n",
       "      <th>2021-02-24</th>\n",
       "      <td>-109.0</td>\n",
       "      <td>-118.1467</td>\n",
       "      <td>9.1467</td>\n",
       "      <td>10.0</td>\n",
       "      <td>342.0</td>\n",
       "    </tr>\n",
       "    <tr>\n",
       "      <th>2021-02-25</th>\n",
       "      <td>-3.0</td>\n",
       "      <td>-8.5971</td>\n",
       "      <td>5.5971</td>\n",
       "      <td>6.0</td>\n",
       "      <td>342.0</td>\n",
       "    </tr>\n",
       "    <tr>\n",
       "      <th>2021-02-26</th>\n",
       "      <td>-15.0</td>\n",
       "      <td>-21.5493</td>\n",
       "      <td>6.5493</td>\n",
       "      <td>7.0</td>\n",
       "      <td>342.0</td>\n",
       "    </tr>\n",
       "  </tbody>\n",
       "</table>\n",
       "<p>117 rows × 5 columns</p>\n",
       "</div>"
      ],
      "text/plain": [
       "            total_pnl   net_pnl  commission   num  holding_period\n",
       "2020-09-01      -23.0  -29.0393      6.0393   8.0           342.0\n",
       "2020-09-02      -23.0  -28.2803      5.2803   7.0           342.0\n",
       "2020-09-03       27.0   23.9667      3.0333   4.0           342.0\n",
       "2020-09-04       -3.0  -13.5581     10.5581  14.0           342.0\n",
       "2020-09-07      -52.0  -62.5140     10.5140  14.0           342.0\n",
       "...               ...       ...         ...   ...             ...\n",
       "2021-02-22       59.0   51.7071      7.2929   8.0           342.0\n",
       "2021-02-23       32.0   25.5780      6.4220   7.0           342.0\n",
       "2021-02-24     -109.0 -118.1467      9.1467  10.0           342.0\n",
       "2021-02-25       -3.0   -8.5971      5.5971   6.0           342.0\n",
       "2021-02-26      -15.0  -21.5493      6.5493   7.0           342.0\n",
       "\n",
       "[117 rows x 5 columns]"
      ]
     },
     "execution_count": 129,
     "metadata": {},
     "output_type": "execute_result"
    }
   ],
   "source": [
    "df"
   ]
  },
  {
   "cell_type": "code",
   "execution_count": 130,
   "metadata": {},
   "outputs": [
    {
     "name": "stdout",
     "output_type": "stream",
     "text": [
      "------------------------------\n",
      "交易天数：\t117\n",
      "区间收益：\t-1040.67\n",
      "日度胜率：\t41.03%\n",
      "日盈亏比：\t0.90:1\n",
      "------------------------------\n",
      "最大回撤：\t1042.60\n",
      "回撤起始：\t2020-09-15\n",
      "回撤结束：\t2020-12-04\n",
      "------------------------------\n",
      "交易次数：\t930.0\n",
      "每日平均：\t7.95\n",
      "每笔收益：\t-1.12\n",
      "------------------------------\n",
      "信息比率：\t-0.19\n",
      "------------------------------\n"
     ]
    },
    {
     "data": {
      "text/plain": [
       "(-1040.6682999999362,\n",
       " 1042.5969999999652,\n",
       " -1.118998172042942,\n",
       " 930.0,\n",
       " 117,\n",
       " -0.18603698495168436)"
      ]
     },
     "execution_count": 130,
     "metadata": {},
     "output_type": "execute_result"
    },
    {
     "data": {
      "image/png": "[encoded data removed]",
      "text/plain": [
       "<Figure size 432x288 with 1 Axes>"
      ]
     },
     "metadata": {
      "needs_background": "light"
     },
     "output_type": "display_data"
    }
   ],
   "source": [
    "from wmpy.trader.utility import performance_summary\n",
    "performance_summary(df, key='net_pnl', _plot=True, _print=True)"
   ]
  },
  {
   "cell_type": "code",
   "execution_count": 131,
   "metadata": {},
   "outputs": [
    {
     "data": {
      "text/plain": [
       "<matplotlib.collections.PolyCollection at 0x7f5cbd79cbd0>"
      ]
     },
     "execution_count": 131,
     "metadata": {},
     "output_type": "execute_result"
    },
    {
     "data": {
      "image/png": "[encoded data removed]",
      "text/plain": [
       "<Figure size 432x288 with 1 Axes>"
      ]
     },
     "metadata": {
      "needs_background": "light"
     },
     "output_type": "display_data"
    }
   ],
   "source": [
    "# 20210101后为样本外数据\n",
    "value_ser = df['net_pnl'].cumsum()\n",
    "value_ser.plot()\n",
    "plt.fill_between(value_ser[datetime.date(2021, 1, 1):].index,\n",
    "                         value_ser.min(),\n",
    "                         value_ser.max(),\n",
    "                         facecolor='green',\n",
    "                         alpha=0.3)"
   ]
  },
  {
   "cell_type": "code",
   "execution_count": 101,
   "metadata": {},
   "outputs": [],
   "source": [
    "from wmpy.trader.utility import update_main_contract, get_main_contract_from_json\n",
    "date = 20201231\n",
    "contract = 'IF2101' # 当天的主力合约"
   ]
  },
  {
   "cell_type": "code",
   "execution_count": 102,
   "metadata": {},
   "outputs": [
    {
     "data": {
      "text/html": [
       "<div>\n",
       "<style scoped>\n",
       "    .dataframe tbody tr th:only-of-type {\n",
       "        vertical-align: middle;\n",
       "    }\n",
       "\n",
       "    .dataframe tbody tr th {\n",
       "        vertical-align: top;\n",
       "    }\n",
       "\n",
       "    .dataframe thead th {\n",
       "        text-align: right;\n",
       "    }\n",
       "</style>\n",
       "<table border=\"1\" class=\"dataframe\">\n",
       "  <thead>\n",
       "    <tr style=\"text-align: right;\">\n",
       "      <th></th>\n",
       "      <th>contract</th>\n",
       "      <th>exchange</th>\n",
       "      <th>interval</th>\n",
       "      <th>volume</th>\n",
       "      <th>open_interest</th>\n",
       "      <th>open_price</th>\n",
       "      <th>high_price</th>\n",
       "      <th>low_price</th>\n",
       "      <th>close_price</th>\n",
       "      <th>bid_price_1</th>\n",
       "      <th>ask_price_1</th>\n",
       "    </tr>\n",
       "    <tr>\n",
       "      <th>datetime</th>\n",
       "      <th></th>\n",
       "      <th></th>\n",
       "      <th></th>\n",
       "      <th></th>\n",
       "      <th></th>\n",
       "      <th></th>\n",
       "      <th></th>\n",
       "      <th></th>\n",
       "      <th></th>\n",
       "      <th></th>\n",
       "      <th></th>\n",
       "    </tr>\n",
       "  </thead>\n",
       "  <tbody>\n",
       "    <tr>\n",
       "      <th>2020-12-31 09:30:00</th>\n",
       "      <td>IF2101</td>\n",
       "      <td>CFFEX</td>\n",
       "      <td>1m</td>\n",
       "      <td>1621.0</td>\n",
       "      <td>81996.0</td>\n",
       "      <td>5132.6</td>\n",
       "      <td>5136.6</td>\n",
       "      <td>5125.0</td>\n",
       "      <td>5136.4</td>\n",
       "      <td>5132.0</td>\n",
       "      <td>5133.4</td>\n",
       "    </tr>\n",
       "    <tr>\n",
       "      <th>2020-12-31 09:31:00</th>\n",
       "      <td>IF2101</td>\n",
       "      <td>CFFEX</td>\n",
       "      <td>1m</td>\n",
       "      <td>1055.0</td>\n",
       "      <td>81343.0</td>\n",
       "      <td>5136.2</td>\n",
       "      <td>5146.4</td>\n",
       "      <td>5136.2</td>\n",
       "      <td>5146.4</td>\n",
       "      <td>5136.2</td>\n",
       "      <td>5136.6</td>\n",
       "    </tr>\n",
       "    <tr>\n",
       "      <th>2020-12-31 09:32:00</th>\n",
       "      <td>IF2101</td>\n",
       "      <td>CFFEX</td>\n",
       "      <td>1m</td>\n",
       "      <td>823.0</td>\n",
       "      <td>80933.0</td>\n",
       "      <td>5146.6</td>\n",
       "      <td>5148.8</td>\n",
       "      <td>5145.2</td>\n",
       "      <td>5148.0</td>\n",
       "      <td>5146.4</td>\n",
       "      <td>5146.8</td>\n",
       "    </tr>\n",
       "    <tr>\n",
       "      <th>2020-12-31 09:33:00</th>\n",
       "      <td>IF2101</td>\n",
       "      <td>CFFEX</td>\n",
       "      <td>1m</td>\n",
       "      <td>917.0</td>\n",
       "      <td>80484.0</td>\n",
       "      <td>5147.8</td>\n",
       "      <td>5153.6</td>\n",
       "      <td>5147.2</td>\n",
       "      <td>5153.6</td>\n",
       "      <td>5147.8</td>\n",
       "      <td>5148.2</td>\n",
       "    </tr>\n",
       "    <tr>\n",
       "      <th>2020-12-31 09:34:00</th>\n",
       "      <td>IF2101</td>\n",
       "      <td>CFFEX</td>\n",
       "      <td>1m</td>\n",
       "      <td>754.0</td>\n",
       "      <td>80032.0</td>\n",
       "      <td>5154.0</td>\n",
       "      <td>5156.8</td>\n",
       "      <td>5150.8</td>\n",
       "      <td>5155.0</td>\n",
       "      <td>5153.8</td>\n",
       "      <td>5154.6</td>\n",
       "    </tr>\n",
       "    <tr>\n",
       "      <th>...</th>\n",
       "      <td>...</td>\n",
       "      <td>...</td>\n",
       "      <td>...</td>\n",
       "      <td>...</td>\n",
       "      <td>...</td>\n",
       "      <td>...</td>\n",
       "      <td>...</td>\n",
       "      <td>...</td>\n",
       "      <td>...</td>\n",
       "      <td>...</td>\n",
       "      <td>...</td>\n",
       "    </tr>\n",
       "    <tr>\n",
       "      <th>2020-12-31 14:55:00</th>\n",
       "      <td>IF2101</td>\n",
       "      <td>CFFEX</td>\n",
       "      <td>1m</td>\n",
       "      <td>468.0</td>\n",
       "      <td>89496.0</td>\n",
       "      <td>5217.8</td>\n",
       "      <td>5218.4</td>\n",
       "      <td>5216.4</td>\n",
       "      <td>5217.8</td>\n",
       "      <td>5217.6</td>\n",
       "      <td>5218.2</td>\n",
       "    </tr>\n",
       "    <tr>\n",
       "      <th>2020-12-31 14:56:00</th>\n",
       "      <td>IF2101</td>\n",
       "      <td>CFFEX</td>\n",
       "      <td>1m</td>\n",
       "      <td>502.0</td>\n",
       "      <td>89727.0</td>\n",
       "      <td>5217.8</td>\n",
       "      <td>5219.8</td>\n",
       "      <td>5216.6</td>\n",
       "      <td>5219.0</td>\n",
       "      <td>5217.6</td>\n",
       "      <td>5218.0</td>\n",
       "    </tr>\n",
       "    <tr>\n",
       "      <th>2020-12-31 14:57:00</th>\n",
       "      <td>IF2101</td>\n",
       "      <td>CFFEX</td>\n",
       "      <td>1m</td>\n",
       "      <td>704.0</td>\n",
       "      <td>90073.0</td>\n",
       "      <td>5219.0</td>\n",
       "      <td>5219.0</td>\n",
       "      <td>5215.0</td>\n",
       "      <td>5218.2</td>\n",
       "      <td>5218.8</td>\n",
       "      <td>5219.2</td>\n",
       "    </tr>\n",
       "    <tr>\n",
       "      <th>2020-12-31 14:58:00</th>\n",
       "      <td>IF2101</td>\n",
       "      <td>CFFEX</td>\n",
       "      <td>1m</td>\n",
       "      <td>610.0</td>\n",
       "      <td>90469.0</td>\n",
       "      <td>5218.2</td>\n",
       "      <td>5221.6</td>\n",
       "      <td>5216.8</td>\n",
       "      <td>5220.4</td>\n",
       "      <td>5217.8</td>\n",
       "      <td>5218.8</td>\n",
       "    </tr>\n",
       "    <tr>\n",
       "      <th>2020-12-31 14:59:00</th>\n",
       "      <td>IF2101</td>\n",
       "      <td>CFFEX</td>\n",
       "      <td>1m</td>\n",
       "      <td>789.0</td>\n",
       "      <td>90825.0</td>\n",
       "      <td>5220.2</td>\n",
       "      <td>5227.4</td>\n",
       "      <td>5220.0</td>\n",
       "      <td>5226.6</td>\n",
       "      <td>5220.4</td>\n",
       "      <td>5220.8</td>\n",
       "    </tr>\n",
       "  </tbody>\n",
       "</table>\n",
       "<p>240 rows × 11 columns</p>\n",
       "</div>"
      ],
      "text/plain": [
       "                    contract exchange interval  volume  open_interest  \\\n",
       "datetime                                                                \n",
       "2020-12-31 09:30:00   IF2101    CFFEX       1m  1621.0        81996.0   \n",
       "2020-12-31 09:31:00   IF2101    CFFEX       1m  1055.0        81343.0   \n",
       "2020-12-31 09:32:00   IF2101    CFFEX       1m   823.0        80933.0   \n",
       "2020-12-31 09:33:00   IF2101    CFFEX       1m   917.0        80484.0   \n",
       "2020-12-31 09:34:00   IF2101    CFFEX       1m   754.0        80032.0   \n",
       "...                      ...      ...      ...     ...            ...   \n",
       "2020-12-31 14:55:00   IF2101    CFFEX       1m   468.0        89496.0   \n",
       "2020-12-31 14:56:00   IF2101    CFFEX       1m   502.0        89727.0   \n",
       "2020-12-31 14:57:00   IF2101    CFFEX       1m   704.0        90073.0   \n",
       "2020-12-31 14:58:00   IF2101    CFFEX       1m   610.0        90469.0   \n",
       "2020-12-31 14:59:00   IF2101    CFFEX       1m   789.0        90825.0   \n",
       "\n",
       "                     open_price  high_price  low_price  close_price  \\\n",
       "datetime                                                              \n",
       "2020-12-31 09:30:00      5132.6      5136.6     5125.0       5136.4   \n",
       "2020-12-31 09:31:00      5136.2      5146.4     5136.2       5146.4   \n",
       "2020-12-31 09:32:00      5146.6      5148.8     5145.2       5148.0   \n",
       "2020-12-31 09:33:00      5147.8      5153.6     5147.2       5153.6   \n",
       "2020-12-31 09:34:00      5154.0      5156.8     5150.8       5155.0   \n",
       "...                         ...         ...        ...          ...   \n",
       "2020-12-31 14:55:00      5217.8      5218.4     5216.4       5217.8   \n",
       "2020-12-31 14:56:00      5217.8      5219.8     5216.6       5219.0   \n",
       "2020-12-31 14:57:00      5219.0      5219.0     5215.0       5218.2   \n",
       "2020-12-31 14:58:00      5218.2      5221.6     5216.8       5220.4   \n",
       "2020-12-31 14:59:00      5220.2      5227.4     5220.0       5226.6   \n",
       "\n",
       "                     bid_price_1  ask_price_1  \n",
       "datetime                                       \n",
       "2020-12-31 09:30:00       5132.0       5133.4  \n",
       "2020-12-31 09:31:00       5136.2       5136.6  \n",
       "2020-12-31 09:32:00       5146.4       5146.8  \n",
       "2020-12-31 09:33:00       5147.8       5148.2  \n",
       "2020-12-31 09:34:00       5153.8       5154.6  \n",
       "...                          ...          ...  \n",
       "2020-12-31 14:55:00       5217.6       5218.2  \n",
       "2020-12-31 14:56:00       5217.6       5218.0  \n",
       "2020-12-31 14:57:00       5218.8       5219.2  \n",
       "2020-12-31 14:58:00       5217.8       5218.8  \n",
       "2020-12-31 14:59:00       5220.4       5220.8  \n",
       "\n",
       "[240 rows x 11 columns]"
      ]
     },
     "execution_count": 102,
     "metadata": {},
     "output_type": "execute_result"
    }
   ],
   "source": [
    "bar_df = load_bar(contract, date)\n",
    "bar_df = bar_filter(bar_df) # 过滤非交易时间（最后一分钟虽然有行情，但无法交易，含有的信息量也很少）\n",
    "bar_df"
   ]
  },
  {
   "cell_type": "code",
   "execution_count": 105,
   "metadata": {},
   "outputs": [],
   "source": [
    "temp_df = bar_df.copy()\n",
    "temp_df['Fourier_filter'] = temp_df['close_price'].rolling(40).apply(Fourier_filter,args=(2,))"
   ]
  },
  {
   "cell_type": "code",
   "execution_count": 106,
   "metadata": {},
   "outputs": [
    {
     "data": {
      "image/png": "[encoded data removed]",
      "text/plain": [
       "<Figure size 432x288 with 1 Axes>"
      ]
     },
     "metadata": {
      "needs_background": "light"
     },
     "output_type": "display_data"
    }
   ],
   "source": [
    "plt.plot(temp_df['close_price'], label='original')\n",
    "plt.plot(temp_df['Fourier_filter'], label='Fourier_filter')\n",
    "plt.legend()\n",
    "plt.show()"
   ]
  },
  {
   "cell_type": "code",
   "execution_count": 14,
   "metadata": {},
   "outputs": [],
   "source": [
    "temp_df['Fourier_diff'] = temp_df['Fourier_filter'].diff()"
   ]
  },
  {
   "cell_type": "code",
   "execution_count": 16,
   "metadata": {},
   "outputs": [
    {
     "data": {
      "text/plain": [
       "datetime\n",
       "2020-12-30 21:00:00         NaN\n",
       "2020-12-30 21:01:00         NaN\n",
       "2020-12-30 21:02:00         NaN\n",
       "2020-12-30 21:03:00         NaN\n",
       "2020-12-30 21:04:00         NaN\n",
       "                         ...   \n",
       "2020-12-31 14:55:00    0.767659\n",
       "2020-12-31 14:56:00    0.927572\n",
       "2020-12-31 14:57:00    0.886231\n",
       "2020-12-31 14:58:00    1.103524\n",
       "2020-12-31 14:59:00    0.879283\n",
       "Name: Fourier_diff, Length: 346, dtype: float64"
      ]
     },
     "execution_count": 16,
     "metadata": {},
     "output_type": "execute_result"
    }
   ],
   "source": [
    "temp_df['Fourier_diff']"
   ]
  },
  {
   "cell_type": "code",
   "execution_count": 67,
   "metadata": {},
   "outputs": [],
   "source": [
    "# 我们发现当Fourier滤波去掉足够多的高频信号时，曲线将变得十分平滑，我们用它来预测涨跌的趋势\n",
    "# 当这条均线上升时，平空做多；当这条均线下降时，平多做空\n",
    "def F_strategy(bar_df, date, contract, parameter_dict=None):\n",
    "    FOURIER_K = parameter_dict['FOURIER_K']\n",
    "    WINDOW = parameter_dict['WINDOW']\n",
    "    \n",
    "    start_date = get_previous_date(date, 2)\n",
    "    end_date = date\n",
    "    data_df = load_bar_period(contract, start_date, end_date)\n",
    "    data_df = bar_filter(data_df)\n",
    "    \n",
    "    temp_df = data_df.copy()   # 防止改掉原数据，引起不必要的bug\n",
    "    temp_df['Fourier_filter'] = temp_df['close_price'].rolling(WINDOW).apply(Fourier_filter,args=(FOURIER_K,))\n",
    "    DIFF = temp_df['Fourier_filter'].diff()\n",
    "\n",
    "    signal_ser = pd.Series(data = 0,index = bar_df.index) \n",
    "    \n",
    "    for i in range(1,len(signal_ser)):\n",
    "        last_signal = signal_ser[i-1]\n",
    "        if last_signal == 0:\n",
    "            if DIFF[i]>=0 :\n",
    "                signal_ser[i] = 1\n",
    "            else:\n",
    "                signal_ser[i] = -1\n",
    "        elif last_signal == 1:\n",
    "            if DIFF[i] < 0:\n",
    "                signal_ser[i] = -1\n",
    "            else:\n",
    "                signal_ser[i] = 1\n",
    "        else:\n",
    "            if DIFF[i] > 0:\n",
    "                signal_ser[i] = 1\n",
    "            else:\n",
    "                signal_ser[i] = -1\n",
    "    \n",
    "    \n",
    "    # 过滤掉夜盘的信号，防止隔夜持仓，也防止加班盯盘\n",
    "    if len(np.unique(bar_df.index.date)) > 1:\n",
    "        current_date = bar_df.index[-1].date()\n",
    "        # 以凌晨3点位分界，划分夜盘和日盘\n",
    "        split_time = datetime.datetime.combine(current_date, datetime.time(3, 0))\n",
    "\n",
    "        night_end_time = bar_df[:split_time].index[-1]\n",
    "        day_start_time = bar_df[split_time:].index[0]\n",
    "        signal_ser.loc[:night_end_time] = 0\n",
    "\n",
    "\n",
    "    ## 返回这段时间的持仓序列\n",
    "    position_ser = signal_ser.shift(1)\n",
    "    position_ser.iloc[0] = 0\n",
    "    position_ser.iloc[-1] = 0\n",
    "    position_ser.iloc[-2] = 0\n",
    "    position_ser.iloc[-3] = 0\n",
    "    \n",
    "    return position_ser"
   ]
  },
  {
   "cell_type": "code",
   "execution_count": 114,
   "metadata": {},
   "outputs": [],
   "source": [
    "# 网格搜索调整参数\n",
    "best_score = -10000\n",
    "for window in [30,60,90,120]:\n",
    "    for k in [1,3,5]:\n",
    "        # 对于每种参数可能的组合，进行一次训练\n",
    "        parameter_dict = dict(WINDOW = window, FOURIER_K = k)\n",
    "        df = cal_all_pnl(20200901, 20201231, F_strategy, parameter_dict, symbol='IF', contract=None, mode='take', commission='yesterday', rebate=0, bar_filter=bar_filter, workers=None, verbose=False)\n",
    "        df.loc[datetime.date(2020, 12, 21)] = 0, 0, 0, 0, 0\n",
    "        score = df['net_pnl'].sum()\n",
    "        # 找到表现最好的参数\n",
    "        if score > best_score:\n",
    "            best_score = score\n",
    "            best_parameters = dict(WINDOW = window, FOURIER_K = k)"
   ]
  },
  {
   "cell_type": "code",
   "execution_count": 115,
   "metadata": {},
   "outputs": [
    {
     "data": {
      "text/plain": [
       "{'WINDOW': 90, 'FOURIER_K': 1}"
      ]
     },
     "execution_count": 115,
     "metadata": {},
     "output_type": "execute_result"
    }
   ],
   "source": [
    "best_parameters"
   ]
  },
  {
   "cell_type": "code",
   "execution_count": 124,
   "metadata": {},
   "outputs": [
    {
     "name": "stderr",
     "output_type": "stream",
     "text": [
      "100%|██████████| 117/117 [00:17<00:00,  6.77it/s]\n"
     ]
    }
   ],
   "source": [
    "df = cal_all_pnl(20200901, 20210228, F_strategy, best_parameters, symbol='IF', contract=None, mode='take', commission='yesterday', rebate=0, bar_filter=bar_filter, workers=None, verbose=True)"
   ]
  },
  {
   "cell_type": "code",
   "execution_count": 125,
   "metadata": {},
   "outputs": [
    {
     "name": "stdout",
     "output_type": "stream",
     "text": [
      "------------------------------\n",
      "交易天数：\t117\n",
      "区间收益：\t-287.65\n",
      "日度胜率：\t44.44%\n",
      "日盈亏比：\t1.11:1\n",
      "------------------------------\n",
      "最大回撤：\t968.38\n",
      "回撤起始：\t2020-09-14\n",
      "回撤结束：\t2021-02-10\n",
      "------------------------------\n",
      "交易次数：\t927.0\n",
      "每日平均：\t7.92\n",
      "每笔收益：\t-0.31\n",
      "------------------------------\n",
      "信息比率：\t-0.04\n",
      "------------------------------\n"
     ]
    },
    {
     "data": {
      "text/plain": [
       "(-287.6515196004557,\n",
       " 968.377500400401,\n",
       " -0.3103036888893805,\n",
       " 927.0,\n",
       " 117,\n",
       " -0.0434015495869145)"
      ]
     },
     "execution_count": 125,
     "metadata": {},
     "output_type": "execute_result"
    },
    {
     "data": {
      "image/png": "[encoded data removed]",
      "text/plain": [
       "<Figure size 432x288 with 1 Axes>"
      ]
     },
     "metadata": {
      "needs_background": "light"
     },
     "output_type": "display_data"
    }
   ],
   "source": [
    "from wmpy.trader.utility import performance_summary\n",
    "performance_summary(df, key='net_pnl', _plot=True, _print=True)"
   ]
  },
  {
   "cell_type": "code",
   "execution_count": 126,
   "metadata": {},
   "outputs": [
    {
     "data": {
      "text/plain": [
       "<matplotlib.collections.PolyCollection at 0x7f5cbe9d2690>"
      ]
     },
     "execution_count": 126,
     "metadata": {},
     "output_type": "execute_result"
    },
    {
     "data": {
      "image/png": "[encoded data removed]",
      "text/plain": [
       "<Figure size 432x288 with 1 Axes>"
      ]
     },
     "metadata": {
      "needs_background": "light"
     },
     "output_type": "display_data"
    }
   ],
   "source": [
    "# 20210101后为样本外数据\n",
    "value_ser = df['net_pnl'].cumsum()\n",
    "value_ser.plot()\n",
    "plt.fill_between(value_ser[datetime.date(2021, 1, 1):].index,\n",
    "                         value_ser.min(),\n",
    "                         value_ser.max(),\n",
    "                         facecolor='green',\n",
    "                         alpha=0.3)"
   ]
  },
  {
   "cell_type": "code",
   "execution_count": null,
   "metadata": {},
   "outputs": [],
   "source": []
  }
 ],
 "metadata": {
  "kernelspec": {
   "display_name": "Python 3",
   "language": "python",
   "name": "python3"
  },
  "language_info": {
   "codemirror_mode": {
    "name": "ipython",
    "version": 3
   },
   "file_extension": ".py",
   "mimetype": "text/x-python",
   "name": "python",
   "nbconvert_exporter": "python",
   "pygments_lexer": "ipython3",
   "version": "3.7.5"
  }
 },
 "nbformat": 4,
 "nbformat_minor": 4
}

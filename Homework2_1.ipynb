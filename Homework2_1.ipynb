{
 "cells": [
  {
   "cell_type": "code",
   "execution_count": 1,
   "metadata": {},
   "outputs": [],
   "source": [
    "import pandas as pd\n",
    "import numpy as np\n",
    "import datetime\n",
    "import talib\n",
    "import matplotlib.pyplot as plt\n",
    "from wmpy.conf.settings import product_info_df, trade_days_list\n",
    "from wmpy.trader.utility import get_previous_date, load_bar, load_bar_period, get_commission, map_parallel, get_trading_days, get_main_contract, read_sql_bar, get_symbol_name, np_shift, update_main_contract, get_main_contract_from_json\n",
    "from wmpy.app.cta_backtester.backtesting_bar import cal_all_pnl, cal_daily_pnl # 注意这里是backtesting_bar"
   ]
  },
  {
   "cell_type": "code",
   "execution_count": 2,
   "metadata": {},
   "outputs": [],
   "source": [
    "#过滤掉非交易时间\n",
    "def bar_filter(bar_df, contract=None):\n",
    "    def is_trading_time(dt):\n",
    "        condition = (\n",
    "            (dt.time() >= datetime.time(9, 0) and dt.time() < datetime.time(11, 30))    # 上午\n",
    "         or (dt.time() >= datetime.time(13, 0) and dt.time() < datetime.time(15, 0)))  # 下午\n",
    "         #or (dt.time() >= datetime.time(21, 0) and dt.time() < datetime.time(23, 0)))   # 夜盘\n",
    "        return condition\n",
    "    bool_list = [is_trading_time(x) for x in bar_df.index]\n",
    "    return bar_df.loc[bool_list].copy()"
   ]
  },
  {
   "cell_type": "code",
   "execution_count": 3,
   "metadata": {},
   "outputs": [
    {
     "data": {
      "application/vnd.jupyter.widget-view+json": {
       "model_id": "2ecea3b621fb45d4b00df563176810cd",
       "version_major": 2,
       "version_minor": 0
      },
      "text/plain": [
       "QgridWidget(grid_options={'fullWidthRows': True, 'syncColumnCellResize': True, 'forceFitColumns': True, 'defau…"
      ]
     },
     "metadata": {},
     "output_type": "display_data"
    }
   ],
   "source": [
    "#查看期货品种\n",
    "import qgrid\n",
    "qgrid.show_grid(product_info_df)"
   ]
  },
  {
   "cell_type": "code",
   "execution_count": 4,
   "metadata": {},
   "outputs": [],
   "source": [
    "symbol = 'IF'\n",
    "start_date = 20201001\n",
    "end_date = 20201231\n",
    "date_list = get_trading_days(start_date=start_date,end_date=end_date)\n",
    "update_main_contract(symbol, date_list)\n",
    "contract_dict = get_main_contract_from_json(symbol, date_list, rank=1)"
   ]
  },
  {
   "cell_type": "code",
   "execution_count": 5,
   "metadata": {},
   "outputs": [],
   "source": [
    "data_df = load_bar(contract_dict[date_list[0]],date_list[0])\n",
    "for i in range(1,len(contract_dict)):\n",
    "    bar_df = load_bar(contract_dict[date_list[i]], date_list[i])\n",
    "    data_df = data_df.append(bar_df)\n",
    "data_df = bar_filter(data_df)    "
   ]
  },
  {
   "cell_type": "code",
   "execution_count": 6,
   "metadata": {},
   "outputs": [],
   "source": [
    "class DataProcessing:\n",
    "    def __init__(self, train):\n",
    "        self.file = data_df['close_price'].copy()\n",
    "        self.train = train\n",
    "        self.i = int(self.train * len(self.file))\n",
    "        self.train_set = self.file[0: self.i]\n",
    "        self.test_set = self.file[self.i:]\n",
    "        self.input_train = []\n",
    "        self.output_train = []\n",
    "        self.input_test = []\n",
    "        self.output_test = []\n",
    "        \n",
    "    def gen_train(self, seq_len):\n",
    "        \"\"\"\n",
    "        产生训练数据\n",
    "        seq_len: 考察窗口长度\n",
    "        return: X_train and Y_train\n",
    "        \"\"\"\n",
    "        for i in range((len(self.train_set)//seq_len)*seq_len - seq_len - 1):\n",
    "            x = np.array(self.train_set.iloc[i: i + seq_len])\n",
    "            y = np.array([self.train_set.iloc[i + seq_len + 1]], np.float64)\n",
    "            self.input_train.append(x)\n",
    "            self.output_train.append(y)\n",
    "        self.X_train = np.array(self.input_train)\n",
    "        self.Y_train = np.array(self.output_train)\n",
    "\n",
    "    def gen_test(self, seq_len):\n",
    "        \"\"\"\n",
    "        产生测试数据\n",
    "        seq_len: 考察窗口长度\n",
    "        return: X_test and Y_test\n",
    "        \"\"\"\n",
    "        for i in range((len(self.test_set)//seq_len)*seq_len - seq_len - 1):\n",
    "            x = np.array(self.test_set.iloc[i: i + seq_len])\n",
    "            y = np.array([self.test_set.iloc[i + seq_len + 1]], np.float64)\n",
    "            self.input_test.append(x)\n",
    "            self.output_test.append(y)\n",
    "        self.X_test = np.array(self.input_test)\n",
    "        self.Y_test = np.array(self.output_test)"
   ]
  },
  {
   "cell_type": "code",
   "execution_count": 7,
   "metadata": {},
   "outputs": [],
   "source": [
    "# 确定最佳的考察窗口长度\n",
    "from sklearn.linear_model import LinearRegression\n",
    "window_grid = np.arange(1,120)\n",
    "best_window = 0\n",
    "temp_score = 0\n",
    "for window in window_grid:\n",
    "    process = DataProcessing(0.8)\n",
    "    process.gen_test(window)\n",
    "    process.gen_train(window)\n",
    "    model = LinearRegression().fit(process.X_train,process.Y_train)\n",
    "    if temp_score < model.score(process.X_test,process.Y_test):\n",
    "        best_window = window\n",
    "    temp_score = max(temp_score,model.score(process.X_test,process.Y_test))\n"
   ]
  },
  {
   "cell_type": "code",
   "execution_count": 8,
   "metadata": {},
   "outputs": [
    {
     "data": {
      "text/plain": [
       "6"
      ]
     },
     "execution_count": 8,
     "metadata": {},
     "output_type": "execute_result"
    }
   ],
   "source": [
    "best_window"
   ]
  },
  {
   "cell_type": "code",
   "execution_count": 9,
   "metadata": {},
   "outputs": [],
   "source": [
    "# 计算最佳的线性回归参数\n",
    "process = DataProcessing(0.8)\n",
    "process.gen_test(best_window)\n",
    "process.gen_train(best_window)\n",
    "lr = LinearRegression().fit(process.X_train,process.Y_train)\n",
    "b = lr.intercept_\n",
    "w = lr.coef_"
   ]
  },
  {
   "cell_type": "code",
   "execution_count": 10,
   "metadata": {},
   "outputs": [
    {
     "data": {
      "text/plain": [
       "array([[-0.00749219,  0.01767106, -0.01522419, -0.00949246,  0.04231612,\n",
       "         0.97126633]])"
      ]
     },
     "execution_count": 10,
     "metadata": {},
     "output_type": "execute_result"
    }
   ],
   "source": [
    "w"
   ]
  },
  {
   "cell_type": "code",
   "execution_count": 11,
   "metadata": {},
   "outputs": [
    {
     "data": {
      "text/plain": [
       "array([4.70118259])"
      ]
     },
     "execution_count": 11,
     "metadata": {},
     "output_type": "execute_result"
    }
   ],
   "source": [
    "b"
   ]
  },
  {
   "cell_type": "code",
   "execution_count": 12,
   "metadata": {},
   "outputs": [],
   "source": [
    "def lr_strategy(bar_df, date, contract, parameter_dict=None):\n",
    "    \n",
    "    WINDOW = parameter_dict['WINDOW']\n",
    "    BUY_THRESHOLD = parameter_dict['OPEN_THRESHOLD']\n",
    "    SELL_THRESHOLD = parameter_dict['CLOSE_THRESHOLD']\n",
    "    \n",
    "        \n",
    "    start_date = get_previous_date(date, 2)\n",
    "    end_date = date\n",
    "    data_df = load_bar_period(contract, start_date, end_date)\n",
    "    data_df = bar_filter(data_df)\n",
    "    # 当预测的收益高于实际收益一定阈值时，平空做多；\n",
    "    # 当预测的收益低于于实际收益一定阈值时，平多做空。\n",
    "    def lr_pred(x):\n",
    "        return np.dot(w,x)+b\n",
    "    factor_ser = data_df['close_price'].rolling(WINDOW).apply(lr_pred) - data_df['close_price']\n",
    "    \n",
    "    score_ser = pd.Series(factor_ser, index=bar_df.index)\n",
    "\n",
    "    BUY_OPEN_THRESHOLD =  BUY_THRESHOLD\n",
    "    SELL_OPEN_THRESHOLD = SELL_THRESHOLD\n",
    "\n",
    "    SELL_CLOSE_THRESHOLD = SELL_THRESHOLD\n",
    "    BUY_CLOSE_THRESHOLD = BUY_THRESHOLD\n",
    "\n",
    "    ## 根据信号确定仓位\n",
    "    signal_ser = pd.Series(data=0, index=score_ser.index)\n",
    "\n",
    "    ## 先确定开仓时点\n",
    "    buy_open_bool = score_ser >= BUY_OPEN_THRESHOLD\n",
    "    signal_ser[buy_open_bool] = 1\n",
    "\n",
    "    sell_open_bool = score_ser <= SELL_OPEN_THRESHOLD\n",
    "    signal_ser[sell_open_bool] = -1\n",
    "\n",
    "    ## 再确定平仓时点\n",
    "    buy_close_bool = score_ser <= SELL_CLOSE_THRESHOLD\n",
    "    position_positive = pd.Series(data=np.nan, index=score_ser.index)\n",
    "    position_positive.iloc[0] = 0\n",
    "    position_positive[signal_ser == 1] = 1\n",
    "    position_positive[buy_close_bool] = 0\n",
    "    position_positive = position_positive.ffill()\n",
    "    position_positive = position_positive.shift(1)\n",
    "\n",
    "    sell_close_bool = score_ser >= BUY_CLOSE_THRESHOLD\n",
    "    position_negative = pd.Series(data=np.nan, index=score_ser.index)\n",
    "    position_negative.iloc[0] = 0\n",
    "    position_negative[signal_ser == -1] = -1\n",
    "    position_negative[sell_close_bool] = 0\n",
    "    position_negative = position_negative.ffill()\n",
    "    position_negative = position_negative.shift(1)\n",
    "\n",
    "    position_ser = position_positive + position_negative\n",
    "\n",
    "    ## 返回这段时间的持仓序列\n",
    "    position_ser = position_ser.fillna(0)\n",
    "    position_ser = pd.Series(position_ser, index=bar_df.index)\n",
    "\n",
    "    position_ser.iloc[0] = 0\n",
    "    position_ser.iloc[-1] = 0\n",
    "    position_ser.iloc[-2] = 0\n",
    "    position_ser.iloc[-3] = 0\n",
    "    \n",
    "    return position_ser"
   ]
  },
  {
   "cell_type": "code",
   "execution_count": 13,
   "metadata": {},
   "outputs": [],
   "source": [
    "# 网格搜索调整参数\n",
    "best_score = -10000\n",
    "for open_threshold in [0.01,0.1,0.5,1,2]:\n",
    "    for close_threshold in [-0.01,-0.1,-0.5,-1,-2]:\n",
    "        parameter_dict = dict(WINDOW=best_window, OPEN_THRESHOLD=open_threshold, CLOSE_THRESHOLD=close_threshold)\n",
    "        df = cal_all_pnl(20201001, 20201231,lr_strategy, parameter_dict, symbol='IF', contract=None, mode='take', commission='yesterday', rebate=0, bar_filter=bar_filter, workers=None, verbose=False)\n",
    "        score = df['net_pnl'].sum()\n",
    "        # 找到表现最好的参数\n",
    "        if score > best_score:\n",
    "            best_score = score\n",
    "            best_parameters = dict(WINDOW=best_window, OPEN_THRESHOLD=open_threshold, CLOSE_THRESHOLD=close_threshold)"
   ]
  },
  {
   "cell_type": "code",
   "execution_count": 14,
   "metadata": {},
   "outputs": [
    {
     "data": {
      "text/plain": [
       "{'WINDOW': 6, 'OPEN_THRESHOLD': 0.1, 'CLOSE_THRESHOLD': -1}"
      ]
     },
     "execution_count": 14,
     "metadata": {},
     "output_type": "execute_result"
    }
   ],
   "source": [
    "best_parameters"
   ]
  },
  {
   "cell_type": "code",
   "execution_count": 15,
   "metadata": {},
   "outputs": [
    {
     "name": "stderr",
     "output_type": "stream",
     "text": [
      "100%|██████████| 95/95 [00:11<00:00,  8.41it/s]\n"
     ]
    }
   ],
   "source": [
    "df = cal_all_pnl(20201001, 20210228, lr_strategy, best_parameters, symbol='IF', contract=None, mode='take', commission='yesterday', rebate=0, bar_filter=bar_filter, workers=None, verbose=True)"
   ]
  },
  {
   "cell_type": "code",
   "execution_count": 16,
   "metadata": {},
   "outputs": [
    {
     "data": {
      "text/html": [
       "<div>\n",
       "<style scoped>\n",
       "    .dataframe tbody tr th:only-of-type {\n",
       "        vertical-align: middle;\n",
       "    }\n",
       "\n",
       "    .dataframe tbody tr th {\n",
       "        vertical-align: top;\n",
       "    }\n",
       "\n",
       "    .dataframe thead th {\n",
       "        text-align: right;\n",
       "    }\n",
       "</style>\n",
       "<table border=\"1\" class=\"dataframe\">\n",
       "  <thead>\n",
       "    <tr style=\"text-align: right;\">\n",
       "      <th></th>\n",
       "      <th>total_pnl</th>\n",
       "      <th>net_pnl</th>\n",
       "      <th>commission</th>\n",
       "      <th>num</th>\n",
       "      <th>holding_period</th>\n",
       "    </tr>\n",
       "  </thead>\n",
       "  <tbody>\n",
       "    <tr>\n",
       "      <th>2020-10-09</th>\n",
       "      <td>-8.0</td>\n",
       "      <td>-8.428352</td>\n",
       "      <td>0.428352</td>\n",
       "      <td>2.0</td>\n",
       "      <td>236.0</td>\n",
       "    </tr>\n",
       "    <tr>\n",
       "      <th>2020-10-12</th>\n",
       "      <td>113.2</td>\n",
       "      <td>112.980976</td>\n",
       "      <td>0.219024</td>\n",
       "      <td>1.0</td>\n",
       "      <td>235.0</td>\n",
       "    </tr>\n",
       "    <tr>\n",
       "      <th>2020-10-13</th>\n",
       "      <td>33.0</td>\n",
       "      <td>32.778321</td>\n",
       "      <td>0.221679</td>\n",
       "      <td>1.0</td>\n",
       "      <td>236.0</td>\n",
       "    </tr>\n",
       "    <tr>\n",
       "      <th>2020-10-14</th>\n",
       "      <td>-2.4</td>\n",
       "      <td>-2.621288</td>\n",
       "      <td>0.221288</td>\n",
       "      <td>1.0</td>\n",
       "      <td>236.0</td>\n",
       "    </tr>\n",
       "    <tr>\n",
       "      <th>2020-10-15</th>\n",
       "      <td>-11.0</td>\n",
       "      <td>-11.221219</td>\n",
       "      <td>0.221219</td>\n",
       "      <td>1.0</td>\n",
       "      <td>236.0</td>\n",
       "    </tr>\n",
       "    <tr>\n",
       "      <th>...</th>\n",
       "      <td>...</td>\n",
       "      <td>...</td>\n",
       "      <td>...</td>\n",
       "      <td>...</td>\n",
       "      <td>...</td>\n",
       "    </tr>\n",
       "    <tr>\n",
       "      <th>2021-02-22</th>\n",
       "      <td>107.4</td>\n",
       "      <td>107.140325</td>\n",
       "      <td>0.259675</td>\n",
       "      <td>1.0</td>\n",
       "      <td>225.0</td>\n",
       "    </tr>\n",
       "    <tr>\n",
       "      <th>2021-02-23</th>\n",
       "      <td>15.4</td>\n",
       "      <td>15.143803</td>\n",
       "      <td>0.256197</td>\n",
       "      <td>1.0</td>\n",
       "      <td>231.0</td>\n",
       "    </tr>\n",
       "    <tr>\n",
       "      <th>2021-02-24</th>\n",
       "      <td>98.6</td>\n",
       "      <td>97.599072</td>\n",
       "      <td>1.000928</td>\n",
       "      <td>4.0</td>\n",
       "      <td>236.0</td>\n",
       "    </tr>\n",
       "    <tr>\n",
       "      <th>2021-02-25</th>\n",
       "      <td>62.0</td>\n",
       "      <td>61.244671</td>\n",
       "      <td>0.755329</td>\n",
       "      <td>3.0</td>\n",
       "      <td>236.0</td>\n",
       "    </tr>\n",
       "    <tr>\n",
       "      <th>2021-02-26</th>\n",
       "      <td>-63.4</td>\n",
       "      <td>-64.138884</td>\n",
       "      <td>0.738884</td>\n",
       "      <td>3.0</td>\n",
       "      <td>236.0</td>\n",
       "    </tr>\n",
       "  </tbody>\n",
       "</table>\n",
       "<p>95 rows × 5 columns</p>\n",
       "</div>"
      ],
      "text/plain": [
       "            total_pnl     net_pnl  commission  num  holding_period\n",
       "2020-10-09       -8.0   -8.428352    0.428352  2.0           236.0\n",
       "2020-10-12      113.2  112.980976    0.219024  1.0           235.0\n",
       "2020-10-13       33.0   32.778321    0.221679  1.0           236.0\n",
       "2020-10-14       -2.4   -2.621288    0.221288  1.0           236.0\n",
       "2020-10-15      -11.0  -11.221219    0.221219  1.0           236.0\n",
       "...               ...         ...         ...  ...             ...\n",
       "2021-02-22      107.4  107.140325    0.259675  1.0           225.0\n",
       "2021-02-23       15.4   15.143803    0.256197  1.0           231.0\n",
       "2021-02-24       98.6   97.599072    1.000928  4.0           236.0\n",
       "2021-02-25       62.0   61.244671    0.755329  3.0           236.0\n",
       "2021-02-26      -63.4  -64.138884    0.738884  3.0           236.0\n",
       "\n",
       "[95 rows x 5 columns]"
      ]
     },
     "execution_count": 16,
     "metadata": {},
     "output_type": "execute_result"
    }
   ],
   "source": [
    "df"
   ]
  },
  {
   "cell_type": "code",
   "execution_count": 17,
   "metadata": {},
   "outputs": [
    {
     "name": "stdout",
     "output_type": "stream",
     "text": [
      "------------------------------\n",
      "交易天数：\t95\n",
      "区间收益：\t627.09\n",
      "日度胜率：\t56.47%\n",
      "日盈亏比：\t1.10:1\n",
      "------------------------------\n",
      "最大回撤：\t260.88\n",
      "回撤起始：\t2021-02-05\n",
      "回撤结束：\t2021-02-10\n",
      "------------------------------\n",
      "交易次数：\t110.0\n",
      "每日平均：\t1.16\n",
      "每笔收益：\t5.70\n",
      "------------------------------\n",
      "信息比率：\t0.13\n",
      "------------------------------\n"
     ]
    },
    {
     "data": {
      "text/plain": [
       "(627.0949447999265,\n",
       " 260.88453160000336,\n",
       " 5.700863134544786,\n",
       " 110.0,\n",
       " 95,\n",
       " 0.13313834530820098)"
      ]
     },
     "execution_count": 17,
     "metadata": {},
     "output_type": "execute_result"
    },
    {
     "data": {
      "image/png": "[encoded data removed]",
      "text/plain": [
       "<Figure size 432x288 with 1 Axes>"
      ]
     },
     "metadata": {
      "needs_background": "light"
     },
     "output_type": "display_data"
    }
   ],
   "source": [
    "from wmpy.trader.utility import performance_summary\n",
    "performance_summary(df, key='net_pnl', _plot=True, _print=True)"
   ]
  },
  {
   "cell_type": "code",
   "execution_count": 18,
   "metadata": {},
   "outputs": [
    {
     "data": {
      "text/plain": [
       "<matplotlib.collections.PolyCollection at 0x7faa283e4750>"
      ]
     },
     "execution_count": 18,
     "metadata": {},
     "output_type": "execute_result"
    },
    {
     "data": {
      "image/png": "[encoded data removed]",
      "text/plain": [
       "<Figure size 432x288 with 1 Axes>"
      ]
     },
     "metadata": {
      "needs_background": "light"
     },
     "output_type": "display_data"
    }
   ],
   "source": [
    "# 20210101后为样本外数据\n",
    "value_ser = df['net_pnl'].cumsum()\n",
    "value_ser.plot()\n",
    "plt.fill_between(value_ser[datetime.date(2021, 1, 1):].index,\n",
    "                         value_ser.min(),\n",
    "                         value_ser.max(),\n",
    "                         facecolor='green',\n",
    "                         alpha=0.3)"
   ]
  },
  {
   "cell_type": "code",
   "execution_count": null,
   "metadata": {},
   "outputs": [],
   "source": []
  }
 ],
 "metadata": {
  "kernelspec": {
   "display_name": "Python 3",
   "language": "python",
   "name": "python3"
  },
  "language_info": {
   "codemirror_mode": {
    "name": "ipython",
    "version": 3
   },
   "file_extension": ".py",
   "mimetype": "text/x-python",
   "name": "python",
   "nbconvert_exporter": "python",
   "pygments_lexer": "ipython3",
   "version": "3.7.5"
  }
 },
 "nbformat": 4,
 "nbformat_minor": 4
}
